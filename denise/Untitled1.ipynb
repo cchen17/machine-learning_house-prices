{
 "cells": [
  {
   "cell_type": "code",
   "execution_count": null,
   "metadata": {},
   "outputs": [],
   "source": [
    "from sklearn import linear_model\n",
    "from sklearn.utils.testing import ignore_warnings\n",
    "from sklearn.exceptions import ConvergenceWarning\n",
    "from sklearn.utils import shuffle\n",
    "from sklearn.model_selection import cross_val_score, train_test_split\n",
    "from sklearn.preprocessing import StandardScaler\n",
    "from sklearn.linear_model import LinearRegression, RidgeCV, LassoCV, ElasticNetCV\n",
    "from sklearn.decomposition import PCA\n",
    "from sklearn.naive_bayes import GaussianNB\n",
    "from sklearn.metrics import accuracy_score, mean_squared_error\n",
    "from scipy.stats import skew\n",
    "from sklearn.ensemble import AdaBoostClassifier\n",
    "from xgboost import XGBClassifier\n",
    "from sklearn.tree import DecisionTreeClassifier\n",
    "\n",
    "from IPython.display import display"
   ]
  },
  {
   "cell_type": "code",
   "execution_count": null,
   "metadata": {},
   "outputs": [],
   "source": [
    "X = train.drop('SalePrice', axis = 1)\n",
    "y = train['SalePrice']"
   ]
  },
  {
   "cell_type": "code",
   "execution_count": null,
   "metadata": {},
   "outputs": [],
   "source": [
    "# Load the dataset\n",
    "X_train, X_test, y_train, y_test = train_test_split(X, y, test_size=0.2,\n",
    "                                                    random_state=0)"
   ]
  },
  {
   "cell_type": "code",
   "execution_count": null,
   "metadata": {},
   "outputs": [],
   "source": [
    "@ignore_warnings(category=ConvergenceWarning)\n",
    "\n",
    "def fit_and_score(estimator, max_iter, X_train, X_test, y_train, y_test):\n",
    "    \"\"\"Fit the estimator on the train set and score it on both sets\"\"\"\n",
    "    estimator.set_params(max_iter=max_iter)\n",
    "    estimator.set_params(random_state=0)\n",
    "\n",
    "    start = time.time()\n",
    "    estimator.fit(X_train, y_train)\n",
    "\n",
    "    fit_time = time.time() - start\n",
    "    n_iter = estimator.n_iter_\n",
    "    train_score = estimator.score(X_train, y_train)\n",
    "    test_score = estimator.score(X_test, y_test)\n",
    "\n",
    "    return fit_time, n_iter, train_score, test_score"
   ]
  },
  {
   "cell_type": "code",
   "execution_count": null,
   "metadata": {},
   "outputs": [],
   "source": [
    "# Define the estimators to compare\n",
    "estimator_dict = {'No stopping criterion': linear_model.SGDClassifier(n_iter_no_change=5, tol=None),\n",
    "                  'Training loss': linear_model.SGDClassifier(early_stopping=False, n_iter_no_change=5, tol=0.1),\n",
    "                  'Validation score': linear_model.SGDClassifier(early_stopping=True, n_iter_no_change=5, \n",
    "                                                                 tol=0.0001, validation_fraction=0.2),\n",
    "                  'Linear SVM': linear_model.SGDClassifier(n_iter_no_change=5, alpha = 0.05, penalty='l2', loss='hinge'),\n",
    "            \n",
    "}"
   ]
  },
  {
   "cell_type": "code",
   "execution_count": null,
   "metadata": {},
   "outputs": [],
   "source": [
    "results = []\n",
    "for estimator_name, estimator in estimator_dict.items():\n",
    "    print(estimator_name + ': ', end='')\n",
    "    for max_iter in range(1, 50):\n",
    "        print('.', end='')\n",
    "        sys.stdout.flush()\n",
    "\n",
    "        fit_time, n_iter, train_score, test_score = fit_and_score(\n",
    "            estimator, max_iter, X_train, X_test, y_train, y_test)\n",
    "\n",
    "        results.append((estimator_name, max_iter, fit_time, n_iter,\n",
    "                        train_score, test_score))\n",
    "        \n",
    "        \n",
    "    print('')"
   ]
  },
  {
   "cell_type": "code",
   "execution_count": null,
   "metadata": {},
   "outputs": [],
   "source": [
    "# Transform the results in a pandas dataframe for easy plotting\n",
    "columns = [\n",
    "    'Stopping criterion', 'max_iter', 'Fit time (sec)', 'n_iter_',\n",
    "    'Train score', 'Test score'\n",
    "]\n",
    "results_df = pd.DataFrame(results, columns=columns)\n",
    "\n",
    "# Define what to plot (x_axis, y_axis)\n",
    "lines = 'Stopping criterion'\n",
    "plot_list = [\n",
    "    ('max_iter', 'Train score'),\n",
    "    ('max_iter', 'Test score'),\n",
    "    ('max_iter', 'n_iter_'),\n",
    "    ('max_iter', 'Fit time (sec)'),\n",
    "]\n",
    "\n",
    "nrows = 2\n",
    "ncols = int(np.ceil(len(plot_list) / 2.))\n",
    "fig, axes = plt.subplots(nrows=nrows, ncols=ncols, figsize=(6 * ncols,\n",
    "                                                            4 * nrows))\n",
    "axes[0, 0].get_shared_y_axes().join(axes[0, 0], axes[0, 1])\n",
    "\n",
    "for ax, (x_axis, y_axis) in zip(axes.ravel(), plot_list):\n",
    "    for criterion, group_df in results_df.groupby(lines):\n",
    "        group_df.plot(x=x_axis, y=y_axis, label=criterion, ax=ax)\n",
    "    ax.set_title(y_axis)\n",
    "    ax.legend(title=lines)\n",
    "\n",
    "fig.tight_layout()\n",
    "plt.show()"
   ]
  },
  {
   "cell_type": "code",
   "execution_count": null,
   "metadata": {},
   "outputs": [],
   "source": [
    "import numpy as np\n",
    "from sklearn import linear_model\n",
    "from sklearn import svm\n",
    "\n",
    "classifiers = [\n",
    "    svm.SVR(),\n",
    "    linear_model.SGDRegressor(),\n",
    "    linear_model.BayesianRidge(),\n",
    "    linear_model.LassoLars(),\n",
    "    linear_model.ARDRegression(),\n",
    "    linear_model.PassiveAggressiveRegressor(),\n",
    "    linear_model.TheilSenRegressor(),\n",
    "    linear_model.LinearRegression()]\n",
    "\n",
    "\n",
    "for item in classifiers:\n",
    "    print(item)\n",
    "    clf = item\n",
    "    clf.fit(X_train, y_train)\n",
    "    print(clf.predict(X_test),'\\n')"
   ]
  },
  {
   "cell_type": "code",
   "execution_count": null,
   "metadata": {},
   "outputs": [],
   "source": [
    "# Import your necessary dependencies\n",
    "from sklearn.feature_selection import RFE\n",
    "from sklearn.linear_model import LogisticRegression\n",
    "\n",
    "model = LogisticRegression()\n",
    "rfe = RFE(model, 3)\n",
    "fit = rfe.fit(X_train, y_train)\n",
    "print(\"Num Features: %s\" % (fit.n_features_))\n",
    "print(\"Selected Features: %s\" % (fit.support_))\n",
    "print(\"Feature Ranking: %s\" % (fit.ranking_))"
   ]
  },
  {
   "cell_type": "code",
   "execution_count": null,
   "metadata": {},
   "outputs": [],
   "source": [
    "from sklearn import linear_model\n",
    "\n",
    "regr = LinearRegression ()\n",
    "regr.fit(X_train , y_train)\n",
    "print ’Coeff and intercept:’,\n",
    "regr.coef_ , regr.intercept_\n",
    "print ’Testing Score:’, regr.score(X_test , y_test) print ’\n",
    "Training\n",
    "MSE: ’,\n",
    "np.mean (( regr.predict(X_train) - y_train)**2)\n",
    "print ’Testing MSE: ’,\n",
    "np.mean (( regr.predict(X_test) - y_test)**2"
   ]
  }
 ],
 "metadata": {
  "kernelspec": {
   "display_name": "Python 3",
   "language": "python",
   "name": "python3"
  },
  "language_info": {
   "codemirror_mode": {
    "name": "ipython",
    "version": 3
   },
   "file_extension": ".py",
   "mimetype": "text/x-python",
   "name": "python",
   "nbconvert_exporter": "python",
   "pygments_lexer": "ipython3",
   "version": "3.6.5"
  }
 },
 "nbformat": 4,
 "nbformat_minor": 2
}
