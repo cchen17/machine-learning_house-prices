{
 "cells": [
  {
   "cell_type": "code",
   "execution_count": 1,
   "metadata": {},
   "outputs": [],
   "source": [
    "#Import packages\n",
    "import pandas as pd\n",
    "import numpy as np\n",
    "\n",
    "from sklearn.linear_model import LinearRegression\n",
    "lm = LinearRegression()\n",
    "\n",
    "import statsmodels.api as sm\n",
    "\n",
    "from statsmodels.stats.outliers_influence import variance_inflation_factor\n",
    "\n",
    "#Load our two Data Frames\n",
    "AmesDummiesOrdinal = pd.read_csv('AmesDummiesOrdinal.csv', index_col=0)"
   ]
  },
  {
   "cell_type": "code",
   "execution_count": 4,
   "metadata": {},
   "outputs": [],
   "source": [
    "#Make trimmed versions of our DFs with the consensus features from 3 analyses:\n",
    "\n",
    "#Import base feature DF:\n",
    "AmesFeatures = pd.read_csv('xgbFeatures.csv')\n",
    "AmesFeatures.columns = ['Colname', 'X']\n",
    "\n",
    "#Get list from this DF:\n",
    "FeatureList = list(AmesFeatures['Colname'])\n",
    "\n",
    "#Modify the list with tested changes, adapted from the Ridge and AIC methods of feature selection:\n",
    "FeatureList.append('Foundation_Slab')\n",
    "FeatureList.remove('YearsSinceRemodel')\n",
    "FeatureList.remove('OpenPorchSF')\n",
    "FeatureList.remove('MSZoning_C (all)')\n",
    "\n",
    "#Add SalePrice to the list because we need this in the DF\n",
    "FeatureList.append('SalePrice')\n",
    "\n",
    "#Trim the AmesDF to get final DFs\n",
    "AmesDummiesOrdinalF = AmesDummiesOrdinal[FeatureList]\n",
    "\n",
    "#Export these final DFs to csv:\n",
    "AmesDummiesOrdinalF.to_csv('AmesDummiesOrdinalF.csv')\n"
   ]
  },
  {
   "cell_type": "code",
   "execution_count": null,
   "metadata": {},
   "outputs": [],
   "source": []
  }
 ],
 "metadata": {
  "kernelspec": {
   "display_name": "Python 3",
   "language": "python",
   "name": "python3"
  },
  "language_info": {
   "codemirror_mode": {
    "name": "ipython",
    "version": 3
   },
   "file_extension": ".py",
   "mimetype": "text/x-python",
   "name": "python",
   "nbconvert_exporter": "python",
   "pygments_lexer": "ipython3",
   "version": "3.6.5"
  }
 },
 "nbformat": 4,
 "nbformat_minor": 2
}
