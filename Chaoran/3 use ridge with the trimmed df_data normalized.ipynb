{
 "cells": [
  {
   "cell_type": "code",
   "execution_count": 27,
   "metadata": {},
   "outputs": [],
   "source": [
    "import numpy as np\n",
    "import pandas as pd\n",
    "import matplotlib.pyplot as plt\n",
    "from sklearn.linear_model import Ridge, Lasso, LinearRegression,RidgeCV\n",
    "from sklearn.metrics import mean_squared_error\n",
    "\n",
    "plt.style.use('ggplot')\n",
    "%matplotlib inline"
   ]
  },
  {
   "cell_type": "code",
   "execution_count": 28,
   "metadata": {},
   "outputs": [],
   "source": [
    "df=pd.read_csv('lasso.csv',index_col=0)"
   ]
  },
  {
   "cell_type": "code",
   "execution_count": 29,
   "metadata": {},
   "outputs": [
    {
     "data": {
      "text/html": [
       "<div>\n",
       "<style scoped>\n",
       "    .dataframe tbody tr th:only-of-type {\n",
       "        vertical-align: middle;\n",
       "    }\n",
       "\n",
       "    .dataframe tbody tr th {\n",
       "        vertical-align: top;\n",
       "    }\n",
       "\n",
       "    .dataframe thead th {\n",
       "        text-align: right;\n",
       "    }\n",
       "</style>\n",
       "<table border=\"1\" class=\"dataframe\">\n",
       "  <thead>\n",
       "    <tr style=\"text-align: right;\">\n",
       "      <th></th>\n",
       "      <th>LotArea</th>\n",
       "      <th>BedroomAbvGr</th>\n",
       "      <th>KitchenAbvGr</th>\n",
       "      <th>TotRmsAbvGrd</th>\n",
       "      <th>Fireplaces</th>\n",
       "      <th>GarageCars</th>\n",
       "      <th>SalePrice</th>\n",
       "      <th>BsmtScore</th>\n",
       "      <th>TotalBath</th>\n",
       "      <th>MSSubClass_90</th>\n",
       "      <th>...</th>\n",
       "      <th>KitchenQual</th>\n",
       "      <th>Functional</th>\n",
       "      <th>FireplaceQu</th>\n",
       "      <th>GarageCond</th>\n",
       "      <th>PavedDrive</th>\n",
       "      <th>PoolQC</th>\n",
       "      <th>Fence</th>\n",
       "      <th>MoSold_Autumn</th>\n",
       "      <th>MoSold_Spring</th>\n",
       "      <th>MoSold_Winter</th>\n",
       "    </tr>\n",
       "    <tr>\n",
       "      <th>Id</th>\n",
       "      <th></th>\n",
       "      <th></th>\n",
       "      <th></th>\n",
       "      <th></th>\n",
       "      <th></th>\n",
       "      <th></th>\n",
       "      <th></th>\n",
       "      <th></th>\n",
       "      <th></th>\n",
       "      <th></th>\n",
       "      <th></th>\n",
       "      <th></th>\n",
       "      <th></th>\n",
       "      <th></th>\n",
       "      <th></th>\n",
       "      <th></th>\n",
       "      <th></th>\n",
       "      <th></th>\n",
       "      <th></th>\n",
       "      <th></th>\n",
       "      <th></th>\n",
       "    </tr>\n",
       "  </thead>\n",
       "  <tbody>\n",
       "    <tr>\n",
       "      <th>1</th>\n",
       "      <td>8450</td>\n",
       "      <td>3</td>\n",
       "      <td>1</td>\n",
       "      <td>8</td>\n",
       "      <td>0</td>\n",
       "      <td>2</td>\n",
       "      <td>208500</td>\n",
       "      <td>5.992928</td>\n",
       "      <td>3.5</td>\n",
       "      <td>0</td>\n",
       "      <td>...</td>\n",
       "      <td>4</td>\n",
       "      <td>8</td>\n",
       "      <td>1</td>\n",
       "      <td>4</td>\n",
       "      <td>3</td>\n",
       "      <td>1</td>\n",
       "      <td>1</td>\n",
       "      <td>0</td>\n",
       "      <td>0</td>\n",
       "      <td>1</td>\n",
       "    </tr>\n",
       "    <tr>\n",
       "      <th>2</th>\n",
       "      <td>9600</td>\n",
       "      <td>3</td>\n",
       "      <td>1</td>\n",
       "      <td>6</td>\n",
       "      <td>1</td>\n",
       "      <td>2</td>\n",
       "      <td>181500</td>\n",
       "      <td>4.995914</td>\n",
       "      <td>2.5</td>\n",
       "      <td>0</td>\n",
       "      <td>...</td>\n",
       "      <td>3</td>\n",
       "      <td>8</td>\n",
       "      <td>4</td>\n",
       "      <td>4</td>\n",
       "      <td>3</td>\n",
       "      <td>1</td>\n",
       "      <td>1</td>\n",
       "      <td>0</td>\n",
       "      <td>1</td>\n",
       "      <td>0</td>\n",
       "    </tr>\n",
       "    <tr>\n",
       "      <th>3</th>\n",
       "      <td>11250</td>\n",
       "      <td>3</td>\n",
       "      <td>1</td>\n",
       "      <td>6</td>\n",
       "      <td>1</td>\n",
       "      <td>2</td>\n",
       "      <td>223500</td>\n",
       "      <td>5.989733</td>\n",
       "      <td>3.5</td>\n",
       "      <td>0</td>\n",
       "      <td>...</td>\n",
       "      <td>4</td>\n",
       "      <td>8</td>\n",
       "      <td>4</td>\n",
       "      <td>4</td>\n",
       "      <td>3</td>\n",
       "      <td>1</td>\n",
       "      <td>1</td>\n",
       "      <td>1</td>\n",
       "      <td>0</td>\n",
       "      <td>0</td>\n",
       "    </tr>\n",
       "    <tr>\n",
       "      <th>4</th>\n",
       "      <td>9550</td>\n",
       "      <td>3</td>\n",
       "      <td>1</td>\n",
       "      <td>7</td>\n",
       "      <td>1</td>\n",
       "      <td>3</td>\n",
       "      <td>140000</td>\n",
       "      <td>4.981567</td>\n",
       "      <td>2.0</td>\n",
       "      <td>0</td>\n",
       "      <td>...</td>\n",
       "      <td>4</td>\n",
       "      <td>8</td>\n",
       "      <td>5</td>\n",
       "      <td>4</td>\n",
       "      <td>3</td>\n",
       "      <td>1</td>\n",
       "      <td>1</td>\n",
       "      <td>0</td>\n",
       "      <td>0</td>\n",
       "      <td>1</td>\n",
       "    </tr>\n",
       "    <tr>\n",
       "      <th>5</th>\n",
       "      <td>14260</td>\n",
       "      <td>4</td>\n",
       "      <td>1</td>\n",
       "      <td>9</td>\n",
       "      <td>1</td>\n",
       "      <td>3</td>\n",
       "      <td>250000</td>\n",
       "      <td>5.992378</td>\n",
       "      <td>3.5</td>\n",
       "      <td>0</td>\n",
       "      <td>...</td>\n",
       "      <td>4</td>\n",
       "      <td>8</td>\n",
       "      <td>4</td>\n",
       "      <td>4</td>\n",
       "      <td>3</td>\n",
       "      <td>1</td>\n",
       "      <td>1</td>\n",
       "      <td>0</td>\n",
       "      <td>0</td>\n",
       "      <td>1</td>\n",
       "    </tr>\n",
       "  </tbody>\n",
       "</table>\n",
       "<p>5 rows × 86 columns</p>\n",
       "</div>"
      ],
      "text/plain": [
       "    LotArea  BedroomAbvGr  KitchenAbvGr  TotRmsAbvGrd  Fireplaces  GarageCars  \\\n",
       "Id                                                                              \n",
       "1      8450             3             1             8           0           2   \n",
       "2      9600             3             1             6           1           2   \n",
       "3     11250             3             1             6           1           2   \n",
       "4      9550             3             1             7           1           3   \n",
       "5     14260             4             1             9           1           3   \n",
       "\n",
       "    SalePrice  BsmtScore  TotalBath  MSSubClass_90      ...        \\\n",
       "Id                                                      ...         \n",
       "1      208500   5.992928        3.5              0      ...         \n",
       "2      181500   4.995914        2.5              0      ...         \n",
       "3      223500   5.989733        3.5              0      ...         \n",
       "4      140000   4.981567        2.0              0      ...         \n",
       "5      250000   5.992378        3.5              0      ...         \n",
       "\n",
       "    KitchenQual  Functional  FireplaceQu  GarageCond  PavedDrive  PoolQC  \\\n",
       "Id                                                                         \n",
       "1             4           8            1           4           3       1   \n",
       "2             3           8            4           4           3       1   \n",
       "3             4           8            4           4           3       1   \n",
       "4             4           8            5           4           3       1   \n",
       "5             4           8            4           4           3       1   \n",
       "\n",
       "    Fence  MoSold_Autumn  MoSold_Spring  MoSold_Winter  \n",
       "Id                                                      \n",
       "1       1              0              0              1  \n",
       "2       1              0              1              0  \n",
       "3       1              1              0              0  \n",
       "4       1              0              0              1  \n",
       "5       1              0              0              1  \n",
       "\n",
       "[5 rows x 86 columns]"
      ]
     },
     "execution_count": 29,
     "metadata": {},
     "output_type": "execute_result"
    }
   ],
   "source": [
    "df.head()"
   ]
  },
  {
   "cell_type": "code",
   "execution_count": 30,
   "metadata": {},
   "outputs": [],
   "source": [
    "SalePrice=df.SalePrice\n",
    "ridge_df=df.drop('SalePrice',axis=1)\n",
    "\n",
    "# Split the Ames_df into a 80% train-set and a 20% test set.\n",
    "np.random.seed(19)\n",
    "testIdxes = np.random.choice(range(1458), size= 292, replace=False)\n",
    "trainIdxes = list(set(range(1458))-set(testIdxes))\n",
    "trainX = ridge_df.iloc[trainIdxes]\n",
    "testX  = ridge_df.iloc[testIdxes]\n",
    "trainY = SalePrice.iloc[trainIdxes]\n",
    "testY  = SalePrice.iloc[testIdxes]"
   ]
  },
  {
   "cell_type": "code",
   "execution_count": 31,
   "metadata": {},
   "outputs": [
    {
     "data": {
      "text/plain": [
       "0.001"
      ]
     },
     "execution_count": 31,
     "metadata": {},
     "output_type": "execute_result"
    }
   ],
   "source": [
    "alphaRange = np.linspace(1e-3,200,40) # Use np.linspace to generate 40 alpha\n",
    "ridge_cv = RidgeCV(alphas = alphaRange,cv=10) #cross validation to get best lambda\n",
    "ridge_cv.fit(trainX, trainY)\n",
    "best_alpha=ridge_cv.alpha_\n",
    "best_alpha=round(best_alpha,3)\n",
    "best_alpha"
   ]
  },
  {
   "cell_type": "code",
   "execution_count": 32,
   "metadata": {},
   "outputs": [],
   "source": [
    "ridge=Ridge()\n",
    "ridge.set_params(alpha=best_alpha)\n",
    "ridge.fit(trainX,trainY)\n",
    "ridge_intercept = ridge.intercept_\n",
    "ridge_coef = pd.Series(ridge.coef_,index=ridge_df.columns)\n",
    "rtrain_score=ridge.score(trainX,trainY)\n",
    "rtest_score= ridge.score(testX,testY)"
   ]
  },
  {
   "cell_type": "code",
   "execution_count": 33,
   "metadata": {},
   "outputs": [
    {
     "name": "stdout",
     "output_type": "stream",
     "text": [
      "intercept \t -162524.663938285\n",
      "train_score(R2)\t 0.8873423684373635\n",
      "test_score(R2) \t 0.8568726613345821\n"
     ]
    }
   ],
   "source": [
    "print ('intercept \\t',ridge_intercept)\n",
    "print ('train_score(R2)\\t',rtrain_score)\n",
    "print ('test_score(R2) \\t',rtest_score)"
   ]
  },
  {
   "cell_type": "code",
   "execution_count": 34,
   "metadata": {},
   "outputs": [
    {
     "data": {
      "text/plain": [
       "25777.59438425063"
      ]
     },
     "execution_count": 34,
     "metadata": {},
     "output_type": "execute_result"
    }
   ],
   "source": [
    "ridge_predict = ridge.predict(testX)\n",
    "RMSE=np.sqrt(mean_squared_error(testY,ridge_predict))\n",
    "RMSE"
   ]
  },
  {
   "cell_type": "code",
   "execution_count": 35,
   "metadata": {},
   "outputs": [
    {
     "data": {
      "text/plain": [
       "0.8873423684373635"
      ]
     },
     "execution_count": 35,
     "metadata": {},
     "output_type": "execute_result"
    }
   ],
   "source": [
    "ridge.score(trainX,trainY)"
   ]
  },
  {
   "cell_type": "code",
   "execution_count": 36,
   "metadata": {},
   "outputs": [
    {
     "data": {
      "text/plain": [
       "0.8568726613345821"
      ]
     },
     "execution_count": 36,
     "metadata": {},
     "output_type": "execute_result"
    }
   ],
   "source": [
    "ridge.score(testX,testY)"
   ]
  },
  {
   "cell_type": "code",
   "execution_count": 37,
   "metadata": {
    "scrolled": true
   },
   "outputs": [
    {
     "data": {
      "text/plain": [
       "Neighborhood_StoneBr     59219.621595\n",
       "Neighborhood_NoRidge     59096.869087\n",
       "Neighborhood_NridgHt     35989.619534\n",
       "PoolQC                   32812.974600\n",
       "Exterior_ImStucc         31978.594442\n",
       "HouseStyle_SFoyer        31108.072334\n",
       "BldgType_Twnhs           26901.123328\n",
       "Neighborhood_Crawfor     25268.366540\n",
       "HouseStyle_SLvl          20346.173603\n",
       "Condition_RRAe           20261.221753\n",
       "BldgType_TwnhsE          19990.335710\n",
       "SaleCondition_Partial    19787.095519\n",
       "MSSubClass_190           17988.861171\n",
       "Exterior_BrkFace         17222.325247\n",
       "Neighborhood_Gilbert     15717.048523\n",
       "Foundation_Slab          14145.498940\n",
       "Exterior_CemntBd         13919.118877\n",
       "Alley_Pave               13068.388564\n",
       "GarageType_BuiltIn       12745.423665\n",
       "LotConfig_CulDSac        12591.583819\n",
       "TotalBath                12571.084844\n",
       "Fireplaces               12034.095780\n",
       "OverallQual              11941.922775\n",
       "GarageCars               11922.355649\n",
       "TotRmsAbvGrd             11736.623526\n",
       "MSSubClass_120           11698.114540\n",
       "LotShape_IR2             11303.956621\n",
       "BsmtQual                 11241.764728\n",
       "Neighborhood_NWAmes      10803.095083\n",
       "Exterior_WdShing         10545.788861\n",
       "Neighborhood_BrkSide     10336.853630\n",
       "Condition_Artery         10329.320415\n",
       "Condition_Feedr           9525.490345\n",
       "BsmtCond                  9403.333810\n",
       "LotConfig_FR2             9276.324610\n",
       "MSSubClass_160            9223.007811\n",
       "Foundation_BrkTil         9190.822662\n",
       "KitchenQual               8951.886439\n",
       "RoofStyle_Hip             8543.843472\n",
       "Neighborhood_IDOTRR       8145.485339\n",
       "Heating_GasW              7892.410338\n",
       "SaleCondition_Abnorml     7438.282480\n",
       "MSSubClass_90             7200.443314\n",
       "BldgType_Duplex           7200.443314\n",
       "MSZoning_FV               7079.136543\n",
       "KitchenAbvGr              6978.322272\n",
       "BsmtExposure              6846.673197\n",
       "ExterQual                 6773.554756\n",
       "MasVnrType_Stone          6567.054695\n",
       "BedroomAbvGr              6283.076969\n",
       "HouseStyle_2Story         6107.439232\n",
       "LotShape_IR3              5588.755166\n",
       "Neighborhood_Mitchel      5541.233207\n",
       "OverallCond               5447.339499\n",
       "Electrical_FuseA          5388.164202\n",
       "Exterior_MetalSd          4662.657588\n",
       "LandContour_Low           4579.782950\n",
       "Neighborhood_CollgCr      4501.580963\n",
       "Neighborhood_Sawyer       4085.803970\n",
       "dtype: float64"
      ]
     },
     "execution_count": 37,
     "metadata": {},
     "output_type": "execute_result"
    }
   ],
   "source": [
    "#Sorted the coefs, the larger the number is , the larger impact it has to the whole model\n",
    "#showing the top 60 features\n",
    "sorted_coef=abs(ridge_coef).sort_values(ascending=False)\n",
    "sorted_coef[1:60]"
   ]
  },
  {
   "cell_type": "code",
   "execution_count": 38,
   "metadata": {},
   "outputs": [
    {
     "data": {
      "text/plain": [
       "0.1616418364373594"
      ]
     },
     "execution_count": 38,
     "metadata": {},
     "output_type": "execute_result"
    }
   ],
   "source": [
    "PredictionsTest=ridge.predict(testX)\n",
    "RMSLEvalue = np.sqrt(np.mean(np.power(np.log1p(testY)-np.log1p(PredictionsTest), 2)))\n",
    "RMSLEvalue"
   ]
  }
 ],
 "metadata": {
  "kernelspec": {
   "display_name": "Python 3",
   "language": "python",
   "name": "python3"
  },
  "language_info": {
   "codemirror_mode": {
    "name": "ipython",
    "version": 3
   },
   "file_extension": ".py",
   "mimetype": "text/x-python",
   "name": "python",
   "nbconvert_exporter": "python",
   "pygments_lexer": "ipython3",
   "version": "3.7.0"
  }
 },
 "nbformat": 4,
 "nbformat_minor": 2
}
