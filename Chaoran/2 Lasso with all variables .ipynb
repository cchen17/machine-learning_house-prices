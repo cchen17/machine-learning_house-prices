{
 "cells": [
  {
   "cell_type": "code",
   "execution_count": 22,
   "metadata": {},
   "outputs": [],
   "source": [
    "import numpy as np\n",
    "import pandas as pd\n",
    "import matplotlib.pyplot as plt\n",
    "from sklearn.linear_model import Ridge, Lasso, LinearRegression,LassoCV\n",
    "from sklearn.metrics import mean_squared_error\n",
    "#from sklearn.cross_validation import KFold\n",
    "plt.style.use('ggplot')\n",
    "%matplotlib inline"
   ]
  },
  {
   "cell_type": "code",
   "execution_count": 23,
   "metadata": {},
   "outputs": [],
   "source": [
    "df=pd.read_csv(r\"C:\\nydsa bootcamp slides\\Projects\\3\\git\\machine-learning_house-prices\\Chaoran\\AmesDummiesOrdinal.csv\",\n",
    "               index_col=0)"
   ]
  },
  {
   "cell_type": "code",
   "execution_count": 24,
   "metadata": {},
   "outputs": [
    {
     "data": {
      "text/plain": [
       "(1460, 186)"
      ]
     },
     "execution_count": 24,
     "metadata": {},
     "output_type": "execute_result"
    }
   ],
   "source": [
    "df.shape"
   ]
  },
  {
   "cell_type": "code",
   "execution_count": 166,
   "metadata": {},
   "outputs": [],
   "source": [
    "#SalePrice as output, all other variables as input\n",
    "SalePrice=df.SalePrice\n",
    "lasso_df=df.drop('SalePrice',axis=1)\n",
    "\n",
    "# Split the Ames_df into a 70% train-set and a 30% test set. \n",
    "# I tested a few seed set, the seed19 gives the best result when consider about all (alpha value, score, RMSE) together\n",
    "# with differet seed (different data split way) the lambda will change , and the result will be slight different\n",
    "# I think this is due to some outlier nodes of some features. Once we clean the data set better we should get more stable result\n",
    "\n",
    "np.random.seed(19)\n",
    "testIdxes = np.random.choice(range(1460), size= 438, replace=False)\n",
    "trainIdxes = list(set(range(1460))-set(testIdxes))\n",
    "trainX = lasso_df.iloc[trainIdxes]\n",
    "testX  = lasso_df.iloc[testIdxes]\n",
    "trainY = SalePrice.iloc[trainIdxes]\n",
    "testY  = SalePrice.iloc[testIdxes]\n",
    "\n",
    "# Use np.linspace to generate 40 alpha between 0.001 and 200\n",
    "alphaRange = np.linspace(1e-3,200,40) "
   ]
  },
  {
   "cell_type": "markdown",
   "metadata": {},
   "source": [
    "### Start with finding the best Lambda , still use cross validation"
   ]
  },
  {
   "cell_type": "code",
   "execution_count": 167,
   "metadata": {},
   "outputs": [
    {
     "name": "stderr",
     "output_type": "stream",
     "text": [
      "C:\\ProgramData\\Anaconda3\\lib\\site-packages\\sklearn\\linear_model\\coordinate_descent.py:491: ConvergenceWarning: Objective did not converge. You might want to increase the number of iterations. Fitting data with very small alpha may cause precision problems.\n",
      "  ConvergenceWarning)\n"
     ]
    }
   ],
   "source": [
    "lasso_cv=LassoCV(alphas=alphaRange,cv=10)\n",
    "lasso_cv.fit(trainX,trainY)\n",
    "lasso_best_alpha=round(lasso_cv.alpha_,3)"
   ]
  },
  {
   "cell_type": "code",
   "execution_count": 168,
   "metadata": {},
   "outputs": [
    {
     "data": {
      "text/plain": [
       "153.846"
      ]
     },
     "execution_count": 168,
     "metadata": {},
     "output_type": "execute_result"
    }
   ],
   "source": [
    "# with KFold = 10, the best alpha shows as 107.693\n",
    "lasso_best_alpha"
   ]
  },
  {
   "cell_type": "code",
   "execution_count": 169,
   "metadata": {},
   "outputs": [
    {
     "data": {
      "text/plain": [
       "0.9159565632890653"
      ]
     },
     "execution_count": 169,
     "metadata": {},
     "output_type": "execute_result"
    }
   ],
   "source": [
    "lasso_cv.score(trainX,trainY)"
   ]
  },
  {
   "cell_type": "code",
   "execution_count": 170,
   "metadata": {},
   "outputs": [
    {
     "data": {
      "text/plain": [
       "Lasso(alpha=153.846, copy_X=True, fit_intercept=True, max_iter=1000,\n",
       "   normalize=False, positive=False, precompute=False, random_state=None,\n",
       "   selection='cyclic', tol=0.0001, warm_start=False)"
      ]
     },
     "execution_count": 170,
     "metadata": {},
     "output_type": "execute_result"
    }
   ],
   "source": [
    "# build lasso model\n",
    "lasso=Lasso(alpha=lasso_best_alpha)\n",
    "lasso.fit(trainX,trainY)"
   ]
  },
  {
   "cell_type": "code",
   "execution_count": 171,
   "metadata": {},
   "outputs": [
    {
     "data": {
      "text/plain": [
       "-131498.11372792808"
      ]
     },
     "execution_count": 171,
     "metadata": {},
     "output_type": "execute_result"
    }
   ],
   "source": [
    "lasso_inte=lasso.intercept_\n",
    "lasso_inte"
   ]
  },
  {
   "cell_type": "code",
   "execution_count": 172,
   "metadata": {
    "scrolled": true
   },
   "outputs": [],
   "source": [
    "lasso_coef=pd.Series(lasso.coef_, index=lasso_df.columns)\n",
    "lasso_coef_sorted=np.abs(lasso_coef).sort_values(ascending=False)\n",
    "zero_coef=lasso_coef_sorted[lasso_coef_sorted.values==0]"
   ]
  },
  {
   "cell_type": "code",
   "execution_count": 173,
   "metadata": {},
   "outputs": [
    {
     "data": {
      "text/plain": [
       "104"
      ]
     },
     "execution_count": 173,
     "metadata": {},
     "output_type": "execute_result"
    }
   ],
   "source": [
    "len(zero_coef)"
   ]
  },
  {
   "cell_type": "markdown",
   "metadata": {},
   "source": [
    "### with Seed 19, 104 columns can be removed (coef=0)"
   ]
  },
  {
   "cell_type": "code",
   "execution_count": 174,
   "metadata": {},
   "outputs": [
    {
     "data": {
      "text/plain": [
       "32471.865933640995"
      ]
     },
     "execution_count": 174,
     "metadata": {},
     "output_type": "execute_result"
    }
   ],
   "source": [
    "lasso_predict=lasso.predict(testX)\n",
    "RMSE=np.sqrt(mean_squared_error(testY,lasso_predict))\n",
    "RMSE"
   ]
  },
  {
   "cell_type": "code",
   "execution_count": 175,
   "metadata": {},
   "outputs": [],
   "source": [
    "#save the list of coef = 0 to zero_coef_lasso.csv file\n",
    "zero_coef.to_csv(\"zero_coef_lasso.csv\")"
   ]
  },
  {
   "cell_type": "code",
   "execution_count": 177,
   "metadata": {},
   "outputs": [],
   "source": [
    "#drop the 93 columns to get a sub df, check the shape to make sure the column num looks good\n",
    "leftcol=df.drop(list(zero_coef.index),axis=1)"
   ]
  },
  {
   "cell_type": "code",
   "execution_count": 178,
   "metadata": {},
   "outputs": [
    {
     "data": {
      "text/plain": [
       "(1460, 82)"
      ]
     },
     "execution_count": 178,
     "metadata": {},
     "output_type": "execute_result"
    }
   ],
   "source": [
    "leftcol.shape"
   ]
  },
  {
   "cell_type": "code",
   "execution_count": 179,
   "metadata": {},
   "outputs": [
    {
     "data": {
      "text/plain": [
       "(1460, 186)"
      ]
     },
     "execution_count": 179,
     "metadata": {},
     "output_type": "execute_result"
    }
   ],
   "source": [
    "df.shape"
   ]
  },
  {
   "cell_type": "code",
   "execution_count": 181,
   "metadata": {
    "scrolled": true
   },
   "outputs": [],
   "source": [
    "leftcol.to_csv(\"lasso82col.csv\")"
   ]
  }
 ],
 "metadata": {
  "kernelspec": {
   "display_name": "Python 3",
   "language": "python",
   "name": "python3"
  },
  "language_info": {
   "codemirror_mode": {
    "name": "ipython",
    "version": 3
   },
   "file_extension": ".py",
   "mimetype": "text/x-python",
   "name": "python",
   "nbconvert_exporter": "python",
   "pygments_lexer": "ipython3",
   "version": "3.7.0"
  }
 },
 "nbformat": 4,
 "nbformat_minor": 2
}
