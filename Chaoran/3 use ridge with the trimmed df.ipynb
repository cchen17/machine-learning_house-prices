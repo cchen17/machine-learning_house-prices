{
 "cells": [
  {
   "cell_type": "code",
   "execution_count": 1,
   "metadata": {},
   "outputs": [],
   "source": [
    "import numpy as np\n",
    "import pandas as pd\n",
    "import matplotlib.pyplot as plt\n",
    "from sklearn.linear_model import Ridge, Lasso, LinearRegression,RidgeCV\n",
    "from sklearn.metrics import mean_squared_error\n",
    "\n",
    "plt.style.use('ggplot')\n",
    "%matplotlib inline"
   ]
  },
  {
   "cell_type": "code",
   "execution_count": 5,
   "metadata": {},
   "outputs": [],
   "source": [
    "df=pd.read_csv('lasso82col.csv',index_col=0)"
   ]
  },
  {
   "cell_type": "code",
   "execution_count": 6,
   "metadata": {},
   "outputs": [
    {
     "data": {
      "text/plain": [
       "(1460, 82)"
      ]
     },
     "execution_count": 6,
     "metadata": {},
     "output_type": "execute_result"
    }
   ],
   "source": [
    "df.shape"
   ]
  },
  {
   "cell_type": "code",
   "execution_count": 41,
   "metadata": {},
   "outputs": [],
   "source": [
    "SalePrice=df.SalePrice\n",
    "ridge_df=df.drop('SalePrice',axis=1)\n",
    "\n",
    "# Split the Ames_df into a 70% train-set and a 30% test set.\n",
    "np.random.seed(2)\n",
    "testIdxes = np.random.choice(range(1460), size= 438, replace=False)\n",
    "trainIdxes = list(set(range(1460))-set(testIdxes))\n",
    "trainX = ridge_df.iloc[trainIdxes]\n",
    "testX  = ridge_df.iloc[testIdxes]\n",
    "trainY = SalePrice.iloc[trainIdxes]\n",
    "testY  = SalePrice.iloc[testIdxes]"
   ]
  },
  {
   "cell_type": "code",
   "execution_count": 42,
   "metadata": {},
   "outputs": [
    {
     "data": {
      "text/plain": [
       "5.129"
      ]
     },
     "execution_count": 42,
     "metadata": {},
     "output_type": "execute_result"
    }
   ],
   "source": [
    "alphaRange = np.linspace(1e-3,200,40) # Use np.linspace to generate 40 alpha\n",
    "ridge_cv = RidgeCV(alphas = alphaRange,cv=10) #cross validation to get best lambda\n",
    "ridge_cv.fit(trainX, trainY)\n",
    "best_alpha=ridge_cv.alpha_\n",
    "best_alpha=round(best_alpha,3)\n",
    "best_alpha"
   ]
  },
  {
   "cell_type": "code",
   "execution_count": 43,
   "metadata": {},
   "outputs": [],
   "source": [
    "#Use alpha=10.257 to build the Ridge regression model again\n",
    "ridge=Ridge()\n",
    "ridge.set_params(alpha=best_alpha)\n",
    "ridge.fit(trainX,trainY)\n",
    "ridge_intercept = ridge.intercept_\n",
    "ridge_coef = pd.Series(ridge.coef_,index=ridge_df.columns)\n",
    "rtrain_score=ridge.score(trainX,trainY)\n",
    "rtest_score= ridge.score(testX,testY)"
   ]
  },
  {
   "cell_type": "code",
   "execution_count": 44,
   "metadata": {},
   "outputs": [
    {
     "data": {
      "text/plain": [
       "-136368.1489195908"
      ]
     },
     "execution_count": 44,
     "metadata": {},
     "output_type": "execute_result"
    }
   ],
   "source": [
    "ridge_intercept"
   ]
  },
  {
   "cell_type": "code",
   "execution_count": 45,
   "metadata": {},
   "outputs": [
    {
     "data": {
      "text/plain": [
       "49317.15479535841"
      ]
     },
     "execution_count": 45,
     "metadata": {},
     "output_type": "execute_result"
    }
   ],
   "source": [
    "ridge_predict = ridge.predict(testX)\n",
    "RMSE=np.sqrt(mean_squared_error(testY,ridge_predict))\n",
    "RMSE"
   ]
  },
  {
   "cell_type": "code",
   "execution_count": 49,
   "metadata": {},
   "outputs": [
    {
     "data": {
      "text/plain": [
       "PoolQC                   20628.937810\n",
       "Neighborhood_StoneBr     19702.648898\n",
       "Neighborhood_Crawfor     17770.244889\n",
       "Neighborhood_NoRidge     16575.998846\n",
       "BldgType_Twnhs           14441.445269\n",
       "SaleType_New             14163.061913\n",
       "KitchenAbvGr             13761.291060\n",
       "LotConfig_CulDSac        12713.022463\n",
       "Neighborhood_BrkSide     11497.875138\n",
       "Exterior_ImStucc         10625.271862\n",
       "BldgType_TwnhsE          10326.403795\n",
       "Exterior_BrkFace         10113.412198\n",
       "Street_Grvl              10013.156272\n",
       "MasVnrType_BrkFace        9814.270266\n",
       "Exterior_CemntBd          8968.877163\n",
       "BsmtCond                  8580.644083\n",
       "OverallQual               8489.613829\n",
       "LandContour_Low           8370.832018\n",
       "BedroomAbvGr              8170.915868\n",
       "ExterQual                 7896.520958\n",
       "HouseStyle_SLvl           7741.335863\n",
       "Neighborhood_NWAmes       7359.102855\n",
       "Neighborhood_Mitchel      7022.424801\n",
       "HouseStyle_SFoyer         6996.605848\n",
       "GarageType_Detchd         6966.792241\n",
       "GarageType_BuiltIn        6933.578860\n",
       "Condition_Feedr           6931.255358\n",
       "Neighborhood_CollgCr      6530.784016\n",
       "SaleType_COD              6249.659752\n",
       "RoofStyle_Hip             6021.553437\n",
       "BsmtExposure              5979.589282\n",
       "Functional                5809.476816\n",
       "LandSlope_Mod             5591.064136\n",
       "OverallCond               5304.941420\n",
       "TotalBath                 5200.996918\n",
       "SaleCondition_Abnorml     5096.510161\n",
       "MSZoning_RM               4944.287320\n",
       "MSSubClass_120            4764.040385\n",
       "BldgType_Duplex           4578.985477\n",
       "MSSubClass_90             4578.985477\n",
       "Neighborhood_Sawyer       4533.023670\n",
       "GarageQual                4522.573608\n",
       "GarageCars                4488.842539\n",
       "LotShape_IR2              4439.267849\n",
       "KitchenQual               4423.238159\n",
       "MSSubClass_30             4324.398338\n",
       "Exterior_Plywood          3788.687809\n",
       "BsmtScore                 2456.500944\n",
       "SaleCondition_Partial     2427.748040\n",
       "ExterCond                 2288.073708\n",
       "TotRmsAbvGrd              2100.890876\n",
       "HouseStyle_2Story         1735.470986\n",
       "Fireplaces                1547.847899\n",
       "Exterior_MetalSd          1427.106233\n",
       "BsmtQual                  1418.339558\n",
       "Electrical_FuseA          1017.665056\n",
       "Neighborhood_Edwards       922.911246\n",
       "LotConfig_Corner           869.089112\n",
       "MasVnrType_Stone           606.179562\n",
       "dtype: float64"
      ]
     },
     "execution_count": 49,
     "metadata": {},
     "output_type": "execute_result"
    }
   ],
   "source": [
    "#Sorted the coefs, the larger the number is , the larger impact it has to the whole model\n",
    "#showing the top 60 features\n",
    "sorted_coef=abs(ridge_coef).sort_values(ascending=False)\n",
    "sorted_coef[1:60]"
   ]
  },
  {
   "cell_type": "code",
   "execution_count": 51,
   "metadata": {},
   "outputs": [
    {
     "data": {
      "text/plain": [
       "['Neighborhood_NridgHt',\n",
       " 'PoolQC',\n",
       " 'Neighborhood_StoneBr',\n",
       " 'Neighborhood_Crawfor',\n",
       " 'Neighborhood_NoRidge',\n",
       " 'BldgType_Twnhs',\n",
       " 'SaleType_New',\n",
       " 'KitchenAbvGr',\n",
       " 'LotConfig_CulDSac',\n",
       " 'Neighborhood_BrkSide',\n",
       " 'Exterior_ImStucc',\n",
       " 'BldgType_TwnhsE',\n",
       " 'Exterior_BrkFace',\n",
       " 'Street_Grvl',\n",
       " 'MasVnrType_BrkFace',\n",
       " 'Exterior_CemntBd',\n",
       " 'BsmtCond',\n",
       " 'OverallQual',\n",
       " 'LandContour_Low',\n",
       " 'BedroomAbvGr',\n",
       " 'ExterQual',\n",
       " 'HouseStyle_SLvl',\n",
       " 'Neighborhood_NWAmes',\n",
       " 'Neighborhood_Mitchel',\n",
       " 'HouseStyle_SFoyer',\n",
       " 'GarageType_Detchd',\n",
       " 'GarageType_BuiltIn',\n",
       " 'Condition_Feedr',\n",
       " 'Neighborhood_CollgCr',\n",
       " 'SaleType_COD',\n",
       " 'RoofStyle_Hip',\n",
       " 'BsmtExposure',\n",
       " 'Functional',\n",
       " 'LandSlope_Mod',\n",
       " 'OverallCond',\n",
       " 'TotalBath',\n",
       " 'SaleCondition_Abnorml',\n",
       " 'MSZoning_RM',\n",
       " 'MSSubClass_120',\n",
       " 'BldgType_Duplex',\n",
       " 'MSSubClass_90',\n",
       " 'Neighborhood_Sawyer',\n",
       " 'GarageQual',\n",
       " 'GarageCars',\n",
       " 'LotShape_IR2',\n",
       " 'KitchenQual',\n",
       " 'MSSubClass_30',\n",
       " 'Exterior_Plywood',\n",
       " 'BsmtScore',\n",
       " 'SaleCondition_Partial',\n",
       " 'ExterCond',\n",
       " 'TotRmsAbvGrd',\n",
       " 'HouseStyle_2Story',\n",
       " 'Fireplaces',\n",
       " 'Exterior_MetalSd',\n",
       " 'BsmtQual',\n",
       " 'Electrical_FuseA',\n",
       " 'Neighborhood_Edwards',\n",
       " 'LotConfig_Corner',\n",
       " 'MasVnrType_Stone',\n",
       " 'MoSold',\n",
       " 'HeatingQC',\n",
       " 'LotShape_IR1',\n",
       " 'GarageFinish',\n",
       " 'YearsAgoBuilt',\n",
       " 'LotFrontage',\n",
       " 'PoolArea',\n",
       " 'TotalSF',\n",
       " 'ScreenPorch',\n",
       " 'MasVnrArea',\n",
       " 'TotalBsmtSF',\n",
       " 'WoodDeckSF',\n",
       " 'GarageAge',\n",
       " 'GarageArea',\n",
       " '3SsnPorch',\n",
       " 'OpenPorchSF',\n",
       " 'EnclosedPorch',\n",
       " 'MiscVal',\n",
       " 'LotArea',\n",
       " 'YearsSinceRemodel',\n",
       " 'RoofMatl_ClyTile']"
      ]
     },
     "execution_count": 51,
     "metadata": {},
     "output_type": "execute_result"
    }
   ],
   "source": [
    "#showing the features names in a list\n",
    "list(sorted_coef.index)"
   ]
  }
 ],
 "metadata": {
  "kernelspec": {
   "display_name": "Python 3",
   "language": "python",
   "name": "python3"
  },
  "language_info": {
   "codemirror_mode": {
    "name": "ipython",
    "version": 3
   },
   "file_extension": ".py",
   "mimetype": "text/x-python",
   "name": "python",
   "nbconvert_exporter": "python",
   "pygments_lexer": "ipython3",
   "version": "3.7.0"
  }
 },
 "nbformat": 4,
 "nbformat_minor": 2
}
