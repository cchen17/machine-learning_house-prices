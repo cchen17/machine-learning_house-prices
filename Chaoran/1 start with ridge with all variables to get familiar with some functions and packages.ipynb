{
 "cells": [
  {
   "cell_type": "code",
   "execution_count": 56,
   "metadata": {},
   "outputs": [],
   "source": [
    "import numpy as np\n",
    "import pandas as pd\n",
    "import matplotlib.pyplot as plt\n",
    "from sklearn.linear_model import Ridge, Lasso, ElasticNet, LinearRegression,RidgeCV\n",
    "from sklearn.metrics import mean_squared_error\n",
    "from sklearn.cross_validation import KFold\n",
    "plt.style.use('ggplot')\n",
    "%matplotlib inline"
   ]
  },
  {
   "cell_type": "code",
   "execution_count": 57,
   "metadata": {},
   "outputs": [],
   "source": [
    "df=pd.read_csv(r\"C:\\nydsa bootcamp slides\\Projects\\3\\git\\machine-learning_house-prices\\Chaoran\\AmesDummiesOrdinal.csv\",\n",
    "               index_col=0)"
   ]
  },
  {
   "cell_type": "code",
   "execution_count": 58,
   "metadata": {},
   "outputs": [
    {
     "data": {
      "text/html": [
       "<div>\n",
       "<style scoped>\n",
       "    .dataframe tbody tr th:only-of-type {\n",
       "        vertical-align: middle;\n",
       "    }\n",
       "\n",
       "    .dataframe tbody tr th {\n",
       "        vertical-align: top;\n",
       "    }\n",
       "\n",
       "    .dataframe thead th {\n",
       "        text-align: right;\n",
       "    }\n",
       "</style>\n",
       "<table border=\"1\" class=\"dataframe\">\n",
       "  <thead>\n",
       "    <tr style=\"text-align: right;\">\n",
       "      <th></th>\n",
       "      <th>LotFrontage</th>\n",
       "      <th>LotArea</th>\n",
       "      <th>MasVnrArea</th>\n",
       "      <th>TotalBsmtSF</th>\n",
       "      <th>BedroomAbvGr</th>\n",
       "      <th>KitchenAbvGr</th>\n",
       "      <th>TotRmsAbvGrd</th>\n",
       "      <th>Fireplaces</th>\n",
       "      <th>GarageCars</th>\n",
       "      <th>GarageArea</th>\n",
       "      <th>...</th>\n",
       "      <th>HeatingQC</th>\n",
       "      <th>KitchenQual</th>\n",
       "      <th>Functional</th>\n",
       "      <th>FireplaceQu</th>\n",
       "      <th>GarageFinish</th>\n",
       "      <th>GarageQual</th>\n",
       "      <th>GarageCond</th>\n",
       "      <th>PavedDrive</th>\n",
       "      <th>PoolQC</th>\n",
       "      <th>Fence</th>\n",
       "    </tr>\n",
       "    <tr>\n",
       "      <th>Id</th>\n",
       "      <th></th>\n",
       "      <th></th>\n",
       "      <th></th>\n",
       "      <th></th>\n",
       "      <th></th>\n",
       "      <th></th>\n",
       "      <th></th>\n",
       "      <th></th>\n",
       "      <th></th>\n",
       "      <th></th>\n",
       "      <th></th>\n",
       "      <th></th>\n",
       "      <th></th>\n",
       "      <th></th>\n",
       "      <th></th>\n",
       "      <th></th>\n",
       "      <th></th>\n",
       "      <th></th>\n",
       "      <th></th>\n",
       "      <th></th>\n",
       "      <th></th>\n",
       "    </tr>\n",
       "  </thead>\n",
       "  <tbody>\n",
       "    <tr>\n",
       "      <th>1</th>\n",
       "      <td>65</td>\n",
       "      <td>8450</td>\n",
       "      <td>196</td>\n",
       "      <td>856</td>\n",
       "      <td>3</td>\n",
       "      <td>1</td>\n",
       "      <td>8</td>\n",
       "      <td>0</td>\n",
       "      <td>2</td>\n",
       "      <td>548</td>\n",
       "      <td>...</td>\n",
       "      <td>5</td>\n",
       "      <td>4</td>\n",
       "      <td>8</td>\n",
       "      <td>1</td>\n",
       "      <td>3</td>\n",
       "      <td>4</td>\n",
       "      <td>4</td>\n",
       "      <td>3</td>\n",
       "      <td>1</td>\n",
       "      <td>1</td>\n",
       "    </tr>\n",
       "    <tr>\n",
       "      <th>2</th>\n",
       "      <td>80</td>\n",
       "      <td>9600</td>\n",
       "      <td>0</td>\n",
       "      <td>1262</td>\n",
       "      <td>3</td>\n",
       "      <td>1</td>\n",
       "      <td>6</td>\n",
       "      <td>1</td>\n",
       "      <td>2</td>\n",
       "      <td>460</td>\n",
       "      <td>...</td>\n",
       "      <td>5</td>\n",
       "      <td>3</td>\n",
       "      <td>8</td>\n",
       "      <td>4</td>\n",
       "      <td>3</td>\n",
       "      <td>4</td>\n",
       "      <td>4</td>\n",
       "      <td>3</td>\n",
       "      <td>1</td>\n",
       "      <td>1</td>\n",
       "    </tr>\n",
       "    <tr>\n",
       "      <th>3</th>\n",
       "      <td>68</td>\n",
       "      <td>11250</td>\n",
       "      <td>162</td>\n",
       "      <td>920</td>\n",
       "      <td>3</td>\n",
       "      <td>1</td>\n",
       "      <td>6</td>\n",
       "      <td>1</td>\n",
       "      <td>2</td>\n",
       "      <td>608</td>\n",
       "      <td>...</td>\n",
       "      <td>5</td>\n",
       "      <td>4</td>\n",
       "      <td>8</td>\n",
       "      <td>4</td>\n",
       "      <td>3</td>\n",
       "      <td>4</td>\n",
       "      <td>4</td>\n",
       "      <td>3</td>\n",
       "      <td>1</td>\n",
       "      <td>1</td>\n",
       "    </tr>\n",
       "    <tr>\n",
       "      <th>4</th>\n",
       "      <td>60</td>\n",
       "      <td>9550</td>\n",
       "      <td>0</td>\n",
       "      <td>756</td>\n",
       "      <td>3</td>\n",
       "      <td>1</td>\n",
       "      <td>7</td>\n",
       "      <td>1</td>\n",
       "      <td>3</td>\n",
       "      <td>642</td>\n",
       "      <td>...</td>\n",
       "      <td>4</td>\n",
       "      <td>4</td>\n",
       "      <td>8</td>\n",
       "      <td>5</td>\n",
       "      <td>2</td>\n",
       "      <td>4</td>\n",
       "      <td>4</td>\n",
       "      <td>3</td>\n",
       "      <td>1</td>\n",
       "      <td>1</td>\n",
       "    </tr>\n",
       "    <tr>\n",
       "      <th>5</th>\n",
       "      <td>84</td>\n",
       "      <td>14260</td>\n",
       "      <td>350</td>\n",
       "      <td>1145</td>\n",
       "      <td>4</td>\n",
       "      <td>1</td>\n",
       "      <td>9</td>\n",
       "      <td>1</td>\n",
       "      <td>3</td>\n",
       "      <td>836</td>\n",
       "      <td>...</td>\n",
       "      <td>5</td>\n",
       "      <td>4</td>\n",
       "      <td>8</td>\n",
       "      <td>4</td>\n",
       "      <td>3</td>\n",
       "      <td>4</td>\n",
       "      <td>4</td>\n",
       "      <td>3</td>\n",
       "      <td>1</td>\n",
       "      <td>1</td>\n",
       "    </tr>\n",
       "  </tbody>\n",
       "</table>\n",
       "<p>5 rows × 186 columns</p>\n",
       "</div>"
      ],
      "text/plain": [
       "    LotFrontage  LotArea  MasVnrArea  TotalBsmtSF  BedroomAbvGr  KitchenAbvGr  \\\n",
       "Id                                                                              \n",
       "1            65     8450         196          856             3             1   \n",
       "2            80     9600           0         1262             3             1   \n",
       "3            68    11250         162          920             3             1   \n",
       "4            60     9550           0          756             3             1   \n",
       "5            84    14260         350         1145             4             1   \n",
       "\n",
       "    TotRmsAbvGrd  Fireplaces  GarageCars  GarageArea  ...    HeatingQC  \\\n",
       "Id                                                    ...                \n",
       "1              8           0           2         548  ...            5   \n",
       "2              6           1           2         460  ...            5   \n",
       "3              6           1           2         608  ...            5   \n",
       "4              7           1           3         642  ...            4   \n",
       "5              9           1           3         836  ...            5   \n",
       "\n",
       "    KitchenQual  Functional  FireplaceQu  GarageFinish  GarageQual  \\\n",
       "Id                                                                   \n",
       "1             4           8            1             3           4   \n",
       "2             3           8            4             3           4   \n",
       "3             4           8            4             3           4   \n",
       "4             4           8            5             2           4   \n",
       "5             4           8            4             3           4   \n",
       "\n",
       "    GarageCond  PavedDrive  PoolQC  Fence  \n",
       "Id                                         \n",
       "1            4           3       1      1  \n",
       "2            4           3       1      1  \n",
       "3            4           3       1      1  \n",
       "4            4           3       1      1  \n",
       "5            4           3       1      1  \n",
       "\n",
       "[5 rows x 186 columns]"
      ]
     },
     "execution_count": 58,
     "metadata": {},
     "output_type": "execute_result"
    }
   ],
   "source": [
    "df.head()"
   ]
  },
  {
   "cell_type": "code",
   "execution_count": 59,
   "metadata": {},
   "outputs": [
    {
     "data": {
      "text/plain": [
       "(1460, 186)"
      ]
     },
     "execution_count": 59,
     "metadata": {},
     "output_type": "execute_result"
    }
   ],
   "source": [
    "df.shape"
   ]
  },
  {
   "cell_type": "markdown",
   "metadata": {},
   "source": [
    "## SalePrice ~ all other varilables"
   ]
  },
  {
   "cell_type": "code",
   "execution_count": 60,
   "metadata": {},
   "outputs": [],
   "source": [
    "SalePrice=df.SalePrice\n",
    "Ames_df=df.drop('SalePrice',axis=1)"
   ]
  },
  {
   "cell_type": "code",
   "execution_count": 61,
   "metadata": {},
   "outputs": [
    {
     "data": {
      "text/plain": [
       "(1460, 185)"
      ]
     },
     "execution_count": 61,
     "metadata": {},
     "output_type": "execute_result"
    }
   ],
   "source": [
    "Ames_df.shape"
   ]
  },
  {
   "cell_type": "code",
   "execution_count": 62,
   "metadata": {},
   "outputs": [],
   "source": [
    "ridge=Ridge()"
   ]
  },
  {
   "cell_type": "markdown",
   "metadata": {},
   "source": [
    "### Ridge"
   ]
  },
  {
   "cell_type": "code",
   "execution_count": 63,
   "metadata": {},
   "outputs": [],
   "source": [
    "# Split the Ames_df into a 70% train-set and a 30% test set.\n",
    "testIdxes = np.random.choice(range(1460), size= 438, replace=False)\n",
    "trainIdxes = list(set(range(1460))-set(testIdxes))\n",
    "trainX = Ames_df.iloc[trainIdxes]\n",
    "testX  = Ames_df.iloc[testIdxes]\n",
    "trainY = SalePrice.iloc[trainIdxes]\n",
    "testY  = SalePrice.iloc[testIdxes]"
   ]
  },
  {
   "cell_type": "code",
   "execution_count": 64,
   "metadata": {},
   "outputs": [],
   "source": [
    "rtrain_coefs = []\n",
    "rtrain_intercepts = []\n",
    "rtrain_R2  = []\n",
    "rtest_R2 = []\n",
    "\n",
    "alphaRange = np.linspace(1e-3,200,40) # Use np.linspace to generate 40 alpha\n",
    "\n",
    "#train the Ridge model\n",
    "for alpha in alphaRange:\n",
    "    ridge.set_params(alpha=alpha)\n",
    "    ridge.fit(trainX,trainY)\n",
    "    rtrain_intercepts.append(ridge.intercept_)\n",
    "    rtrain_coefs.append(ridge.coef_)\n",
    "    rtrain_R2.append(ridge.score(trainX,trainY))\n",
    "    rtest_R2.append(ridge.score(testX,testY))\n"
   ]
  },
  {
   "cell_type": "markdown",
   "metadata": {},
   "source": [
    "- Visualize the chagne of cofficients\n",
    " - we can see that when alpha is around 5, all variables get stable."
   ]
  },
  {
   "cell_type": "code",
   "execution_count": 65,
   "metadata": {},
   "outputs": [
    {
     "data": {
      "image/png": "[encoded data removed]",
      "text/plain": [
       "<Figure size 432x288 with 1 Axes>"
      ]
     },
     "metadata": {},
     "output_type": "display_data"
    }
   ],
   "source": [
    "plt.style.use( 'ggplot')\n",
    "\n",
    "plt.plot(alphaRange, rtrain_coefs)\n",
    "plt.xlim((0.1,15))\n",
    "plt.ylim((-100000,100000))\n",
    "plt.title( 'change of coef varying alpha for training set')\n",
    "plt.xlabel( 'Log Alpha')\n",
    "plt.ylabel( 'Cofficients')\n",
    "plt.show()"
   ]
  },
  {
   "cell_type": "markdown",
   "metadata": {},
   "source": [
    "- The following plot shows the R2 change of the train and test sets\n",
    " - From this plot we also see the best alpha should be around 5 (at around 4 test set and train set has an intersection point, from 4 to 5 R2 of test set doesn't change much , R2 of train set decreses)"
   ]
  },
  {
   "cell_type": "code",
   "execution_count": 66,
   "metadata": {},
   "outputs": [
    {
     "data": {
      "text/plain": [
       "Text(0.5,1,'R2 of train and test sets')"
      ]
     },
     "execution_count": 66,
     "metadata": {},
     "output_type": "execute_result"
    },
    {
     "data": {
      "image/png": "[encoded data removed]",
      "text/plain": [
       "<Figure size 432x288 with 1 Axes>"
      ]
     },
     "metadata": {},
     "output_type": "display_data"
    }
   ],
   "source": [
    "plt.plot(alphaRange, rtrain_R2, label=r'train set $R^2$')\n",
    "plt.plot(alphaRange, rtest_R2, label=r'test set $R^2$')\n",
    "plt.legend(loc='best')\n",
    "plt.xlim((0.1,30))\n",
    "plt.title( 'R2 of train and test sets')"
   ]
  },
  {
   "cell_type": "markdown",
   "metadata": {},
   "source": [
    "#### Use k-fold Cross Validation to get the best alpha\n",
    "- RidgeCV()"
   ]
  },
  {
   "cell_type": "code",
   "execution_count": 89,
   "metadata": {},
   "outputs": [],
   "source": [
    "#kf=KFold(len(trainY),n_folds=10,shuffle=True)\n",
    "ridge_cv = RidgeCV(alphas = alphaRange,cv=10)\n",
    "ridge_cv.fit(trainX, trainY)\n",
    "rbest_alpha=ridge_cv.alpha_\n",
    "rbest_alpha=round(rbest_alpha,3) # keep 3 decimal places "
   ]
  },
  {
   "cell_type": "code",
   "execution_count": 90,
   "metadata": {},
   "outputs": [
    {
     "data": {
      "text/plain": [
       "15.386"
      ]
     },
     "execution_count": 90,
     "metadata": {},
     "output_type": "execute_result"
    }
   ],
   "source": [
    "rbest_alpha # with KFold = 10, the best alpha shows as 15.386"
   ]
  },
  {
   "cell_type": "code",
   "execution_count": 91,
   "metadata": {},
   "outputs": [
    {
     "data": {
      "text/plain": [
       "0.8775921608010742"
      ]
     },
     "execution_count": 91,
     "metadata": {},
     "output_type": "execute_result"
    }
   ],
   "source": [
    "ridge_cv.score(trainX,trainY)"
   ]
  },
  {
   "cell_type": "code",
   "execution_count": 92,
   "metadata": {},
   "outputs": [],
   "source": [
    "#Use alpha=5.129 to build the Ridge regression model again\n",
    "\n",
    "ridge.set_params(alpha=15.386)\n",
    "ridge.fit(trainX,trainY)\n",
    "best_rtrain_intercept = ridge.intercept_\n",
    "best_rtrain_coef= pd.Series(ridge.coef_,index=Ames_df.columns)\n",
    "rtrain_score=ridge.score(trainX,trainY)\n",
    "rtest_score= ridge.score(testX,testY)"
   ]
  },
  {
   "cell_type": "code",
   "execution_count": 93,
   "metadata": {},
   "outputs": [
    {
     "data": {
      "text/plain": [
       "0.8615125122490808"
      ]
     },
     "execution_count": 93,
     "metadata": {},
     "output_type": "execute_result"
    }
   ],
   "source": [
    "rtest_score"
   ]
  },
  {
   "cell_type": "code",
   "execution_count": 94,
   "metadata": {},
   "outputs": [],
   "source": [
    "ridge_predict = ridge.predict(testX)\n",
    "RMSE = np.sqrt(mean_squared_error(testY,ridge_predict))"
   ]
  },
  {
   "cell_type": "code",
   "execution_count": 95,
   "metadata": {},
   "outputs": [
    {
     "data": {
      "text/plain": [
       "27066.05804973955"
      ]
     },
     "execution_count": 95,
     "metadata": {},
     "output_type": "execute_result"
    }
   ],
   "source": [
    "RMSE"
   ]
  },
  {
   "cell_type": "code",
   "execution_count": 96,
   "metadata": {},
   "outputs": [],
   "source": [
    "ridge_sortedCoefs=np.abs(best_rtrain_coef).sort_values(ascending=False)"
   ]
  },
  {
   "cell_type": "code",
   "execution_count": 97,
   "metadata": {},
   "outputs": [
    {
     "data": {
      "text/plain": [
       "Index(['Neighborhood_NridgHt', 'Neighborhood_NoRidge', 'RoofMatl_ClyTile',\n",
       "       'LandContour_Bnk', 'RoofMatl_WdShngl', 'HouseStyle_2Story',\n",
       "       'Neighborhood_StoneBr', 'BldgType_Twnhs', 'LotShape_IR3',\n",
       "       'Condition_PosN', 'MSSubClass_160', 'GarageCars', 'Exterior_ImStucc',\n",
       "       'KitchenAbvGr', 'Neighborhood_Edwards', 'Condition_Feedr',\n",
       "       'BldgType_TwnhsE', 'Neighborhood_Gilbert', 'OverallQual',\n",
       "       'Neighborhood_Crawfor', 'MSZoning_C (all)', 'Exterior_BrkFace',\n",
       "       'BsmtQual', 'LotConfig_CulDSac', 'HouseStyle_SFoyer',\n",
       "       'Condition_Artery', 'SaleType_New', 'MasVnrType_BrkFace',\n",
       "       'Neighborhood_CollgCr', 'KitchenQual', 'Neighborhood_NWAmes',\n",
       "       'Condition_RRAe', 'MSSubClass_120', 'Exterior_CemntBd',\n",
       "       'HouseStyle_SLvl', 'HouseStyle_1.5Fin', 'Neighborhood_Veenker',\n",
       "       'PoolQC', 'BsmtExposure', 'Neighborhood_Timber', 'MSZoning_RM',\n",
       "       'Neighborhood_Mitchel', 'ExterQual', 'LandSlope_Mod', 'LandContour_HLS',\n",
       "       'Exterior_Stucco', 'Neighborhood_Somerst', 'HouseStyle_2.5Fin',\n",
       "       'SaleCondition_Abnorml', 'MSSubClass_85', 'TotalBath',\n",
       "       'SaleCondition_Partial', 'BsmtCond', 'Neighborhood_Blmngtn',\n",
       "       'Exterior_WdShing', 'MSSubClass_80', 'Neighborhood_BrkSide',\n",
       "       'Electrical_FuseA', 'MSSubClass_180', 'Foundation_BrkTil',\n",
       "       'Neighborhood_SawyerW', 'LotConfig_FR2', 'BldgType_Duplex',\n",
       "       'MSSubClass_90', 'RoofStyle_Hip', 'MasVnrType_Stone',\n",
       "       'GarageType_Detchd', 'Condition_PosA', 'OverallCond', 'LotShape_IR2',\n",
       "       'Foundation_Slab', 'Functional', 'Neighborhood_OldTown',\n",
       "       'RoofMatl_WdShake', 'Exterior_Stone', 'MSSubClass_30', 'SaleType_COD',\n",
       "       'Neighborhood_IDOTRR', 'Neighborhood_MeadowV', 'Condition_RRAn',\n",
       "       'MSSubClass_75', 'Neighborhood_SWISU', 'Utilities_NoSeWa',\n",
       "       'Foundation_Wood', 'Fireplaces', 'HouseStyle_2.5Unf', 'LotConfig_FR3',\n",
       "       'SaleType_Con', 'MSSubClass_190', 'Electrical_FuseP', 'BedroomAbvGr',\n",
       "       'TotRmsAbvGrd', 'MasVnrType_BrkCmn', 'Heating_OthW', 'Electrical_FuseF',\n",
       "       'LandSlope_Sev', 'RoofMatl_Tar&Grv', 'SaleType_CWD', 'Alley_Pave',\n",
       "       'Street_Grvl'],\n",
       "      dtype='object')"
      ]
     },
     "execution_count": 97,
     "metadata": {},
     "output_type": "execute_result"
    }
   ],
   "source": [
    "ridge_sortedCoefs.index[0:100]"
   ]
  },
  {
   "cell_type": "code",
   "execution_count": null,
   "metadata": {},
   "outputs": [],
   "source": [
    "# Based on Ridge regression with all varilable as input above are the top 100 features that impact the regression"
   ]
  }
 ],
 "metadata": {
  "kernelspec": {
   "display_name": "Python 3",
   "language": "python",
   "name": "python3"
  },
  "language_info": {
   "codemirror_mode": {
    "name": "ipython",
    "version": 3
   },
   "file_extension": ".py",
   "mimetype": "text/x-python",
   "name": "python",
   "nbconvert_exporter": "python",
   "pygments_lexer": "ipython3",
   "version": "3.7.0"
  }
 },
 "nbformat": 4,
 "nbformat_minor": 2
}
