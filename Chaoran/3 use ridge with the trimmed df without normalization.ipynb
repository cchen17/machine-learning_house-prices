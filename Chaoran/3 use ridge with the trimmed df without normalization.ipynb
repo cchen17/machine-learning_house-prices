{
 "cells": [
  {
   "cell_type": "code",
   "execution_count": 1,
   "metadata": {},
   "outputs": [],
   "source": [
    "import numpy as np\n",
    "import pandas as pd\n",
    "import matplotlib.pyplot as plt\n",
    "from sklearn.linear_model import Ridge, Lasso, LinearRegression,RidgeCV\n",
    "from sklearn.metrics import mean_squared_error\n",
    "\n",
    "plt.style.use('ggplot')\n",
    "%matplotlib inline"
   ]
  },
  {
   "cell_type": "code",
   "execution_count": 3,
   "metadata": {},
   "outputs": [],
   "source": [
    "df=pd.read_csv('lasso.csv',index_col=0)"
   ]
  },
  {
   "cell_type": "code",
   "execution_count": 4,
   "metadata": {},
   "outputs": [
    {
     "data": {
      "text/plain": [
       "(1458, 107)"
      ]
     },
     "execution_count": 4,
     "metadata": {},
     "output_type": "execute_result"
    }
   ],
   "source": [
    "df.shape"
   ]
  },
  {
   "cell_type": "code",
   "execution_count": 5,
   "metadata": {},
   "outputs": [],
   "source": [
    "SalePrice=df.SalePrice\n",
    "ridge_df=df.drop('SalePrice',axis=1)\n",
    "\n",
    "# Split the Ames_df into a 80% train-set and a 20% test set.\n",
    "np.random.seed(19)\n",
    "testIdxes = np.random.choice(range(1458), size= 292, replace=False)\n",
    "trainIdxes = list(set(range(1458))-set(testIdxes))\n",
    "trainX = ridge_df.iloc[trainIdxes]\n",
    "testX  = ridge_df.iloc[testIdxes]\n",
    "trainY = SalePrice.iloc[trainIdxes]\n",
    "testY  = SalePrice.iloc[testIdxes]"
   ]
  },
  {
   "cell_type": "code",
   "execution_count": 6,
   "metadata": {},
   "outputs": [
    {
     "data": {
      "text/plain": [
       "5.129"
      ]
     },
     "execution_count": 6,
     "metadata": {},
     "output_type": "execute_result"
    }
   ],
   "source": [
    "alphaRange = np.linspace(1e-3,200,40) # Use np.linspace to generate 40 alpha\n",
    "ridge_cv = RidgeCV(alphas = alphaRange,cv=10) #cross validation to get best lambda\n",
    "ridge_cv.fit(trainX, trainY)\n",
    "best_alpha=ridge_cv.alpha_\n",
    "best_alpha=round(best_alpha,3)\n",
    "best_alpha"
   ]
  },
  {
   "cell_type": "code",
   "execution_count": 7,
   "metadata": {},
   "outputs": [],
   "source": [
    "#Use alpha=10.257 to build the Ridge regression model again\n",
    "ridge=Ridge()\n",
    "ridge.set_params(alpha=best_alpha)\n",
    "ridge.fit(trainX,trainY)\n",
    "ridge_intercept = ridge.intercept_\n",
    "ridge_coef = pd.Series(ridge.coef_,index=ridge_df.columns)\n",
    "rtrain_score=ridge.score(trainX,trainY)\n",
    "rtest_score= ridge.score(testX,testY)"
   ]
  },
  {
   "cell_type": "code",
   "execution_count": 8,
   "metadata": {},
   "outputs": [
    {
     "data": {
      "text/plain": [
       "-165962.87035456407"
      ]
     },
     "execution_count": 8,
     "metadata": {},
     "output_type": "execute_result"
    }
   ],
   "source": [
    "ridge_intercept"
   ]
  },
  {
   "cell_type": "code",
   "execution_count": 9,
   "metadata": {},
   "outputs": [
    {
     "data": {
      "text/plain": [
       "22612.760935931048"
      ]
     },
     "execution_count": 9,
     "metadata": {},
     "output_type": "execute_result"
    }
   ],
   "source": [
    "ridge_predict = ridge.predict(testX)\n",
    "RMSE=np.sqrt(mean_squared_error(testY,ridge_predict))\n",
    "RMSE"
   ]
  },
  {
   "cell_type": "code",
   "execution_count": 11,
   "metadata": {},
   "outputs": [
    {
     "data": {
      "text/plain": [
       "0.9186055958225835"
      ]
     },
     "execution_count": 11,
     "metadata": {},
     "output_type": "execute_result"
    }
   ],
   "source": [
    "ridge.score(trainX,trainY)"
   ]
  },
  {
   "cell_type": "code",
   "execution_count": 12,
   "metadata": {},
   "outputs": [
    {
     "data": {
      "text/plain": [
       "0.8898600164351189"
      ]
     },
     "execution_count": 12,
     "metadata": {},
     "output_type": "execute_result"
    }
   ],
   "source": [
    "ridge.score(testX,testY)"
   ]
  },
  {
   "cell_type": "code",
   "execution_count": 10,
   "metadata": {},
   "outputs": [
    {
     "data": {
      "text/plain": [
       "Neighborhood_StoneBr     32853.454882\n",
       "PoolQC                   21438.775856\n",
       "Neighborhood_NridgHt     20834.157537\n",
       "Neighborhood_NoRidge     20073.523115\n",
       "Neighborhood_Crawfor     18943.630056\n",
       "Street_Grvl              17837.813079\n",
       "Exterior_ImStucc         14436.875774\n",
       "BldgType_Twnhs           13136.989138\n",
       "KitchenAbvGr             12501.173303\n",
       "MSSubClass_75            12335.780391\n",
       "SaleType_CWD             12250.631353\n",
       "HouseStyle_SFoyer        11210.280850\n",
       "SaleCondition_Partial    10575.725768\n",
       "Neighborhood_BrkSide     10406.144616\n",
       "LotConfig_CulDSac         9880.553241\n",
       "MSSubClass_120            9826.689347\n",
       "Condition_RRAe            9825.958060\n",
       "BldgType_TwnhsE           9643.216162\n",
       "Foundation_Slab           9618.462036\n",
       "Exterior_BrkFace          9333.735802\n",
       "MasVnrType_BrkFace        9300.386267\n",
       "SaleCondition_Abnorml     9282.520081\n",
       "SaleType_New              9224.570733\n",
       "Neighborhood_NPkVill      9158.141799\n",
       "Neighborhood_NWAmes       9014.000929\n",
       "HouseStyle_2Story         8972.096000\n",
       "MSSubClass_190            8934.670884\n",
       "BedroomAbvGr              8762.149594\n",
       "Condition_Feedr           8506.229817\n",
       "BsmtCond                  8298.102069\n",
       "MasVnrType_BrkCmn         8284.924655\n",
       "GarageQual                8167.103170\n",
       "OverallQual               7790.158402\n",
       "MSSubClass_160            7776.092066\n",
       "Functional                7771.804247\n",
       "KitchenQual               7724.745717\n",
       "Condition_PosN            7510.763639\n",
       "HouseStyle_SLvl           7413.708551\n",
       "HouseStyle_1.5Fin         7341.046550\n",
       "Exterior_CemntBd          7190.664999\n",
       "GarageType_BuiltIn        6916.181997\n",
       "MSSubClass_90             6879.600060\n",
       "BldgType_Duplex           6879.600060\n",
       "OverallCond               6271.362844\n",
       "Condition_Artery          6124.409575\n",
       "SaleType_COD              5662.893730\n",
       "GarageType_Detchd         5581.207775\n",
       "Neighborhood_Sawyer       5471.082142\n",
       "Fireplaces                5405.079861\n",
       "BsmtExposure              5325.684151\n",
       "Neighborhood_CollgCr      5306.131554\n",
       "GarageType_Basment        5300.953443\n",
       "LotShape_IR2              5223.186216\n",
       "Exterior_MetalSd          5074.882331\n",
       "ExterQual                 5074.637611\n",
       "Neighborhood_Gilbert      4975.188397\n",
       "GarageCars                4959.265565\n",
       "Exterior_Stucco           4898.579135\n",
       "LandContour_Low           4799.076622\n",
       "dtype: float64"
      ]
     },
     "execution_count": 10,
     "metadata": {},
     "output_type": "execute_result"
    }
   ],
   "source": [
    "#Sorted the coefs, the larger the number is , the larger impact it has to the whole model\n",
    "#showing the top 60 features\n",
    "sorted_coef=abs(ridge_coef).sort_values(ascending=False)\n",
    "sorted_coef[1:60]"
   ]
  },
  {
   "cell_type": "code",
   "execution_count": null,
   "metadata": {},
   "outputs": [],
   "source": [
    "#showing the features names in a list\n",
    "list(sorted_coef.index)"
   ]
  }
 ],
 "metadata": {
  "kernelspec": {
   "display_name": "Python 3",
   "language": "python",
   "name": "python3"
  },
  "language_info": {
   "codemirror_mode": {
    "name": "ipython",
    "version": 3
   },
   "file_extension": ".py",
   "mimetype": "text/x-python",
   "name": "python",
   "nbconvert_exporter": "python",
   "pygments_lexer": "ipython3",
   "version": "3.7.0"
  }
 },
 "nbformat": 4,
 "nbformat_minor": 2
}
