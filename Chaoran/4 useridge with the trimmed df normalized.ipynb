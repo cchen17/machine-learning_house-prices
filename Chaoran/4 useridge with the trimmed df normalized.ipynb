{
 "cells": [
  {
   "cell_type": "code",
   "execution_count": 1,
   "metadata": {},
   "outputs": [],
   "source": [
    "import numpy as np\n",
    "import pandas as pd\n",
    "import matplotlib.pyplot as plt\n",
    "from sklearn.linear_model import Ridge, Lasso, LinearRegression,RidgeCV\n",
    "from sklearn.metrics import mean_squared_error\n",
    "\n",
    "plt.style.use('ggplot')\n",
    "%matplotlib inline"
   ]
  },
  {
   "cell_type": "code",
   "execution_count": 2,
   "metadata": {},
   "outputs": [],
   "source": [
    "df=pd.read_csv('lasso.csv',index_col=0)"
   ]
  },
  {
   "cell_type": "code",
   "execution_count": 3,
   "metadata": {},
   "outputs": [
    {
     "data": {
      "text/plain": [
       "(1458, 107)"
      ]
     },
     "execution_count": 3,
     "metadata": {},
     "output_type": "execute_result"
    }
   ],
   "source": [
    "df.shape"
   ]
  },
  {
   "cell_type": "code",
   "execution_count": 5,
   "metadata": {},
   "outputs": [],
   "source": [
    "SalePrice=df.SalePrice\n",
    "ridge_df=df.drop('SalePrice',axis=1)\n",
    "\n",
    "# Split the Ames_df into a 80% train-set and a 20% test set.\n",
    "np.random.seed(19)\n",
    "testIdxes = np.random.choice(range(1458), size= 292, replace=False)\n",
    "trainIdxes = list(set(range(1458))-set(testIdxes))\n",
    "trainX = ridge_df.iloc[trainIdxes]\n",
    "testX  = ridge_df.iloc[testIdxes]\n",
    "trainY = SalePrice.iloc[trainIdxes]\n",
    "testY  = SalePrice.iloc[testIdxes]"
   ]
  },
  {
   "cell_type": "code",
   "execution_count": 6,
   "metadata": {},
   "outputs": [
    {
     "data": {
      "text/plain": [
       "5.129"
      ]
     },
     "execution_count": 6,
     "metadata": {},
     "output_type": "execute_result"
    }
   ],
   "source": [
    "alphaRange = np.linspace(1e-3,200,40) # Use np.linspace to generate 40 alpha\n",
    "ridge_cv = RidgeCV(alphas = alphaRange,cv=10) #cross validation to get best lambda\n",
    "ridge_cv.fit(trainX, trainY)\n",
    "best_alpha=ridge_cv.alpha_\n",
    "best_alpha=round(best_alpha,3)\n",
    "best_alpha"
   ]
  },
  {
   "cell_type": "code",
   "execution_count": 16,
   "metadata": {},
   "outputs": [],
   "source": [
    "ridge=Ridge()\n",
    "ridge.set_params(alpha=best_alpha,normalize=True)\n",
    "ridge.fit(trainX,trainY)\n",
    "ridge_intercept = ridge.intercept_\n",
    "ridge_coef = pd.Series(ridge.coef_,index=ridge_df.columns)\n",
    "rtrain_score=ridge.score(trainX,trainY)\n",
    "rtest_score= ridge.score(testX,testY)"
   ]
  },
  {
   "cell_type": "code",
   "execution_count": 17,
   "metadata": {},
   "outputs": [
    {
     "data": {
      "text/plain": [
       "-12392.297753578721"
      ]
     },
     "execution_count": 17,
     "metadata": {},
     "output_type": "execute_result"
    }
   ],
   "source": [
    "ridge_intercept"
   ]
  },
  {
   "cell_type": "code",
   "execution_count": 18,
   "metadata": {},
   "outputs": [
    {
     "data": {
      "text/plain": [
       "31021.84134312618"
      ]
     },
     "execution_count": 18,
     "metadata": {},
     "output_type": "execute_result"
    }
   ],
   "source": [
    "ridge_predict = ridge.predict(testX)\n",
    "RMSE=np.sqrt(mean_squared_error(testY,ridge_predict))\n",
    "RMSE"
   ]
  },
  {
   "cell_type": "code",
   "execution_count": 20,
   "metadata": {},
   "outputs": [
    {
     "data": {
      "text/plain": [
       "0.7502133115255105"
      ]
     },
     "execution_count": 20,
     "metadata": {},
     "output_type": "execute_result"
    }
   ],
   "source": [
    "ridge.score(trainX,trainY)"
   ]
  },
  {
   "cell_type": "code",
   "execution_count": 21,
   "metadata": {},
   "outputs": [
    {
     "data": {
      "text/plain": [
       "0.7927125689097279"
      ]
     },
     "execution_count": 21,
     "metadata": {},
     "output_type": "execute_result"
    }
   ],
   "source": [
    "ridge.score(testX,testY)"
   ]
  },
  {
   "cell_type": "code",
   "execution_count": 19,
   "metadata": {},
   "outputs": [
    {
     "data": {
      "text/plain": [
       "Neighborhood_NoRidge     13946.264435\n",
       "Neighborhood_StoneBr     13350.064627\n",
       "Neighborhood_NridgHt     10053.263496\n",
       "Exterior_ImStucc          7503.818948\n",
       "SaleType_CWD              7060.041641\n",
       "SaleType_New              6591.971147\n",
       "SaleCondition_Partial     6486.255144\n",
       "Street_Grvl               6093.238105\n",
       "ExterQual                 6073.447817\n",
       "PoolQC                    6054.619083\n",
       "MasVnrType_Stone          5993.326132\n",
       "KitchenQual               5247.243215\n",
       "Exterior_CemntBd          4786.861877\n",
       "GarageType_BuiltIn        4738.295875\n",
       "Neighborhood_Crawfor      4690.768192\n",
       "LotShape_IR2              4477.648978\n",
       "MasVnrType_BrkCmn         4228.532787\n",
       "RoofStyle_Hip             4191.673414\n",
       "TotalBath                 4156.512755\n",
       "MSSubClass_160            4073.039077\n",
       "MSSubClass_30             4048.090655\n",
       "BldgType_Twnhs            4001.291645\n",
       "Fireplaces                3896.430267\n",
       "GarageCars                3893.825159\n",
       "Exterior_BrkFace          3755.263464\n",
       "MSSubClass_60             3605.139105\n",
       "HouseStyle_SFoyer         3484.613827\n",
       "Condition_RRAe            3437.296542\n",
       "LandContour_HLS           3404.466607\n",
       "Foundation_CBlock         3403.003927\n",
       "MSZoning_RM               3398.723968\n",
       "LotConfig_CulDSac         3356.403079\n",
       "Neighborhood_Edwards      3302.997196\n",
       "OverallQual               3116.796121\n",
       "BsmtQual                  3056.130088\n",
       "GarageType_Detchd         3038.969582\n",
       "Neighborhood_Sawyer       2812.095983\n",
       "KitchenAbvGr              2720.684436\n",
       "MSSubClass_190            2680.456959\n",
       "MSSubClass_75             2626.735292\n",
       "LandContour_Low           2538.842165\n",
       "SaleType_COD              2432.959088\n",
       "Neighborhood_Gilbert      2395.460762\n",
       "SaleCondition_Abnorml     2387.516061\n",
       "GarageFinish              2369.048119\n",
       "HouseStyle_SLvl           2361.623605\n",
       "BldgType_Duplex           2340.977410\n",
       "MSSubClass_90             2340.977410\n",
       "Condition_Feedr           2275.328148\n",
       "Condition_Artery          2259.095752\n",
       "Neighborhood_Mitchel      2240.077169\n",
       "BsmtExposure              2182.959965\n",
       "Electrical_FuseA          2182.189432\n",
       "TotRmsAbvGrd              2050.742025\n",
       "LotShape_IR1              2005.597073\n",
       "HeatingQC                 1984.312589\n",
       "Neighborhood_NPkVill      1909.332984\n",
       "HouseStyle_2Story         1876.027719\n",
       "BldgType_TwnhsE           1848.620655\n",
       "dtype: float64"
      ]
     },
     "execution_count": 19,
     "metadata": {},
     "output_type": "execute_result"
    }
   ],
   "source": [
    "#Sorted the coefs, the larger the number is , the larger impact it has to the whole model\n",
    "#showing the top 60 features\n",
    "sorted_coef=abs(ridge_coef).sort_values(ascending=False)\n",
    "sorted_coef[1:60]"
   ]
  },
  {
   "cell_type": "code",
   "execution_count": 51,
   "metadata": {},
   "outputs": [
    {
     "data": {
      "text/plain": [
       "['Neighborhood_NridgHt',\n",
       " 'PoolQC',\n",
       " 'Neighborhood_StoneBr',\n",
       " 'Neighborhood_Crawfor',\n",
       " 'Neighborhood_NoRidge',\n",
       " 'BldgType_Twnhs',\n",
       " 'SaleType_New',\n",
       " 'KitchenAbvGr',\n",
       " 'LotConfig_CulDSac',\n",
       " 'Neighborhood_BrkSide',\n",
       " 'Exterior_ImStucc',\n",
       " 'BldgType_TwnhsE',\n",
       " 'Exterior_BrkFace',\n",
       " 'Street_Grvl',\n",
       " 'MasVnrType_BrkFace',\n",
       " 'Exterior_CemntBd',\n",
       " 'BsmtCond',\n",
       " 'OverallQual',\n",
       " 'LandContour_Low',\n",
       " 'BedroomAbvGr',\n",
       " 'ExterQual',\n",
       " 'HouseStyle_SLvl',\n",
       " 'Neighborhood_NWAmes',\n",
       " 'Neighborhood_Mitchel',\n",
       " 'HouseStyle_SFoyer',\n",
       " 'GarageType_Detchd',\n",
       " 'GarageType_BuiltIn',\n",
       " 'Condition_Feedr',\n",
       " 'Neighborhood_CollgCr',\n",
       " 'SaleType_COD',\n",
       " 'RoofStyle_Hip',\n",
       " 'BsmtExposure',\n",
       " 'Functional',\n",
       " 'LandSlope_Mod',\n",
       " 'OverallCond',\n",
       " 'TotalBath',\n",
       " 'SaleCondition_Abnorml',\n",
       " 'MSZoning_RM',\n",
       " 'MSSubClass_120',\n",
       " 'BldgType_Duplex',\n",
       " 'MSSubClass_90',\n",
       " 'Neighborhood_Sawyer',\n",
       " 'GarageQual',\n",
       " 'GarageCars',\n",
       " 'LotShape_IR2',\n",
       " 'KitchenQual',\n",
       " 'MSSubClass_30',\n",
       " 'Exterior_Plywood',\n",
       " 'BsmtScore',\n",
       " 'SaleCondition_Partial',\n",
       " 'ExterCond',\n",
       " 'TotRmsAbvGrd',\n",
       " 'HouseStyle_2Story',\n",
       " 'Fireplaces',\n",
       " 'Exterior_MetalSd',\n",
       " 'BsmtQual',\n",
       " 'Electrical_FuseA',\n",
       " 'Neighborhood_Edwards',\n",
       " 'LotConfig_Corner',\n",
       " 'MasVnrType_Stone',\n",
       " 'MoSold',\n",
       " 'HeatingQC',\n",
       " 'LotShape_IR1',\n",
       " 'GarageFinish',\n",
       " 'YearsAgoBuilt',\n",
       " 'LotFrontage',\n",
       " 'PoolArea',\n",
       " 'TotalSF',\n",
       " 'ScreenPorch',\n",
       " 'MasVnrArea',\n",
       " 'TotalBsmtSF',\n",
       " 'WoodDeckSF',\n",
       " 'GarageAge',\n",
       " 'GarageArea',\n",
       " '3SsnPorch',\n",
       " 'OpenPorchSF',\n",
       " 'EnclosedPorch',\n",
       " 'MiscVal',\n",
       " 'LotArea',\n",
       " 'YearsSinceRemodel',\n",
       " 'RoofMatl_ClyTile']"
      ]
     },
     "execution_count": 51,
     "metadata": {},
     "output_type": "execute_result"
    }
   ],
   "source": [
    "#showing the features names in a list\n",
    "list(sorted_coef.index)"
   ]
  }
 ],
 "metadata": {
  "kernelspec": {
   "display_name": "Python 3",
   "language": "python",
   "name": "python3"
  },
  "language_info": {
   "codemirror_mode": {
    "name": "ipython",
    "version": 3
   },
   "file_extension": ".py",
   "mimetype": "text/x-python",
   "name": "python",
   "nbconvert_exporter": "python",
   "pygments_lexer": "ipython3",
   "version": "3.7.0"
  }
 },
 "nbformat": 4,
 "nbformat_minor": 2
}
