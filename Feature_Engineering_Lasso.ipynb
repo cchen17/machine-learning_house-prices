{
 "cells": [
  {
   "cell_type": "code",
   "execution_count": 25,
   "metadata": {},
   "outputs": [],
   "source": [
    "import numpy as np\n",
    "import pandas as pd\n",
    "import matplotlib.pyplot as plt\n",
    "from sklearn.linear_model import Ridge, Lasso, LinearRegression,LassoCV\n",
    "from sklearn.metrics import mean_squared_error\n",
    "#from sklearn.cross_validation import KFold\n",
    "plt.style.use('ggplot')\n",
    "%matplotlib inline"
   ]
  },
  {
   "cell_type": "code",
   "execution_count": 26,
   "metadata": {},
   "outputs": [],
   "source": [
    "df=pd.read_csv(r\"C:\\nydsa bootcamp slides\\Projects\\3\\git\\machine-learning_house-prices\\Chaoran\\AmesDummiesOrdinal.csv\",\n",
    "               index_col=0)\n",
    "#SalePrice as output, all other variables as input\n",
    "SalePrice=df.SalePrice\n",
    "lasso_df=df.drop('SalePrice',axis=1)"
   ]
  },
  {
   "cell_type": "code",
   "execution_count": 27,
   "metadata": {},
   "outputs": [
    {
     "data": {
      "text/plain": [
       "(1458, 186)"
      ]
     },
     "execution_count": 27,
     "metadata": {},
     "output_type": "execute_result"
    }
   ],
   "source": [
    "df.shape"
   ]
  },
  {
   "cell_type": "markdown",
   "metadata": {},
   "source": [
    "### Normalize numeric columns"
   ]
  },
  {
   "cell_type": "code",
   "execution_count": 28,
   "metadata": {},
   "outputs": [
    {
     "name": "stdout",
     "output_type": "stream",
     "text": [
      "LotFrontage 313.0\n",
      "LotArea 215245\n",
      "MasVnrArea 1600.0\n",
      "TotalBsmtSF 3206\n",
      "LowQualFinSF 572\n",
      "BedroomAbvGr 8\n",
      "KitchenAbvGr 3\n",
      "TotRmsAbvGrd 14\n",
      "Fireplaces 3\n",
      "GarageCars 4\n",
      "GarageArea 1390\n",
      "WoodDeckSF 857\n",
      "OpenPorchSF 547\n",
      "EnclosedPorch 552\n",
      "3SsnPorch 508\n",
      "ScreenPorch 480\n",
      "PoolArea 738\n",
      "MiscVal 15500\n",
      "BsmtScore 5.997715851987209\n",
      "TotalSF 4476\n",
      "TotalBath 6.0\n",
      "MSSubClass_30 1\n",
      "MSSubClass_40 1\n",
      "MSSubClass_45 1\n",
      "MSSubClass_50 1\n",
      "MSSubClass_60 1\n",
      "MSSubClass_70 1\n",
      "MSSubClass_75 1\n",
      "MSSubClass_80 1\n",
      "MSSubClass_85 1\n",
      "MSSubClass_90 1\n",
      "MSSubClass_120 1\n",
      "MSSubClass_160 1\n",
      "MSSubClass_180 1\n",
      "MSSubClass_190 1\n",
      "MSZoning_C (all) 1\n",
      "MSZoning_FV 1\n",
      "MSZoning_RH 1\n",
      "MSZoning_RM 1\n",
      "Street_Grvl 1\n",
      "Alley_Grvl 1\n",
      "Alley_Pave 1\n",
      "LandContour_Bnk 1\n",
      "LandContour_HLS 1\n",
      "LandContour_Low 1\n",
      "LotConfig_Corner 1\n",
      "LotConfig_CulDSac 1\n",
      "LotConfig_FR2 1\n",
      "LotConfig_FR3 1\n",
      "LandSlope_Mod 1\n",
      "LandSlope_Sev 1\n",
      "Neighborhood_Blmngtn 1\n",
      "Neighborhood_Blueste 1\n",
      "Neighborhood_BrDale 1\n",
      "Neighborhood_BrkSide 1\n",
      "Neighborhood_ClearCr 1\n",
      "Neighborhood_CollgCr 1\n",
      "Neighborhood_Crawfor 1\n",
      "Neighborhood_Edwards 1\n",
      "Neighborhood_Gilbert 1\n",
      "Neighborhood_IDOTRR 1\n",
      "Neighborhood_MeadowV 1\n",
      "Neighborhood_Mitchel 1\n",
      "Neighborhood_NPkVill 1\n",
      "Neighborhood_NWAmes 1\n",
      "Neighborhood_NoRidge 1\n",
      "Neighborhood_NridgHt 1\n",
      "Neighborhood_OldTown 1\n",
      "Neighborhood_SWISU 1\n",
      "Neighborhood_Sawyer 1\n",
      "Neighborhood_SawyerW 1\n",
      "Neighborhood_Somerst 1\n",
      "Neighborhood_StoneBr 1\n",
      "Neighborhood_Timber 1\n",
      "Neighborhood_Veenker 1\n",
      "BldgType_2fmCon 1\n",
      "BldgType_Duplex 1\n",
      "BldgType_Twnhs 1\n",
      "BldgType_TwnhsE 1\n",
      "HouseStyle_1.5Fin 1\n",
      "HouseStyle_1.5Unf 1\n",
      "HouseStyle_2.5Fin 1\n",
      "HouseStyle_2.5Unf 1\n",
      "HouseStyle_2Story 1\n",
      "HouseStyle_SFoyer 1\n",
      "HouseStyle_SLvl 1\n",
      "RoofStyle_Flat 1\n",
      "RoofStyle_Gambrel 1\n",
      "RoofStyle_Hip 1\n",
      "RoofStyle_Mansard 1\n",
      "RoofStyle_Shed 1\n",
      "RoofMatl_Membran 1\n",
      "RoofMatl_Metal 1\n",
      "RoofMatl_Roll 1\n",
      "RoofMatl_Tar&Grv 1\n",
      "RoofMatl_WdShake 1\n",
      "RoofMatl_WdShngl 1\n",
      "Foundation_BrkTil 1\n",
      "Foundation_CBlock 1\n",
      "Foundation_Slab 1\n",
      "Foundation_Stone 1\n",
      "Foundation_Wood 1\n",
      "MasVnrType_BrkCmn 1\n",
      "MasVnrType_BrkFace 1\n",
      "MasVnrType_Stone 1\n",
      "Heating_Floor 1\n",
      "Heating_GasW 1\n",
      "Heating_Grav 1\n",
      "Heating_OthW 1\n",
      "Heating_Wall 1\n",
      "CentralAir_N 1\n",
      "Electrical_FuseA 1\n",
      "Electrical_FuseF 1\n",
      "Electrical_FuseP 1\n",
      "Electrical_Mix 1\n",
      "GarageType_2Types 1\n",
      "GarageType_Basment 1\n",
      "GarageType_BuiltIn 1\n",
      "GarageType_CarPort 1\n",
      "GarageType_Detchd 1\n",
      "GarageType_No 1\n",
      "SaleType_COD 1\n",
      "SaleType_CWD 1\n",
      "SaleType_Con 1\n",
      "SaleType_ConLD 1\n",
      "SaleType_ConLI 1\n",
      "SaleType_ConLw 1\n",
      "SaleType_New 1\n",
      "SaleType_Oth 1\n",
      "SaleCondition_Abnorml 1\n",
      "SaleCondition_AdjLand 1\n",
      "SaleCondition_Alloca 1\n",
      "SaleCondition_Family 1\n",
      "SaleCondition_Partial 1\n",
      "LotShape_IR1 1\n",
      "LotShape_IR2 1\n",
      "LotShape_IR3 1\n",
      "Utilities_NoSeWa 1\n",
      "Condition_Feedr 1\n",
      "Condition_Artery 1\n",
      "Condition_RRAn 1\n",
      "Condition_PosN 1\n",
      "Condition_RRAe 1\n",
      "Condition_PosA 1\n",
      "Condition_RRNn 1\n",
      "Exterior_HdBoard 1\n",
      "Exterior_MetalSd 1\n",
      "Exterior_Wd Sdng 1\n",
      "Exterior_Plywood 1\n",
      "Exterior_CemntBd 1\n",
      "Exterior_BrkFace 1\n",
      "Exterior_WdShing 1\n",
      "Exterior_Stucco 1\n",
      "Exterior_AsbShng 1\n",
      "Exterior_BrkComm 1\n",
      "Exterior_Stone 1\n",
      "Exterior_CBlock 1\n",
      "Exterior_ImStucc 1\n",
      "Exterior_AsphShn 1\n",
      "Condition_RRNe 1\n",
      "Exterior_Other 1\n",
      "YearsAgoBuilt 139\n",
      "YearsSinceRemodel 61\n",
      "GarageAge 2011.0\n",
      "YearsSinceSale 5\n",
      "OverallQual 10\n",
      "OverallCond 9\n",
      "ExterQual 5\n",
      "ExterCond 5\n",
      "BsmtQual 6\n",
      "BsmtCond 5\n",
      "BsmtExposure 4\n",
      "HeatingQC 5\n",
      "KitchenQual 5\n",
      "Functional 8\n",
      "FireplaceQu 6\n",
      "GarageFinish 4\n",
      "GarageQual 6\n",
      "GarageCond 6\n",
      "PavedDrive 3\n",
      "PoolQC 5\n",
      "Fence 5\n",
      "MoSold_Autumn 1\n",
      "MoSold_Spring 1\n",
      "MoSold_Winter 1\n"
     ]
    },
    {
     "data": {
      "text/plain": [
       "[None,\n",
       " None,\n",
       " None,\n",
       " None,\n",
       " None,\n",
       " None,\n",
       " None,\n",
       " None,\n",
       " None,\n",
       " None,\n",
       " None,\n",
       " None,\n",
       " None,\n",
       " None,\n",
       " None,\n",
       " None,\n",
       " None,\n",
       " None,\n",
       " None,\n",
       " None,\n",
       " None,\n",
       " None,\n",
       " None,\n",
       " None,\n",
       " None,\n",
       " None,\n",
       " None,\n",
       " None,\n",
       " None,\n",
       " None,\n",
       " None,\n",
       " None,\n",
       " None,\n",
       " None,\n",
       " None,\n",
       " None,\n",
       " None,\n",
       " None,\n",
       " None,\n",
       " None,\n",
       " None,\n",
       " None,\n",
       " None,\n",
       " None,\n",
       " None,\n",
       " None,\n",
       " None,\n",
       " None,\n",
       " None,\n",
       " None,\n",
       " None,\n",
       " None,\n",
       " None,\n",
       " None,\n",
       " None,\n",
       " None,\n",
       " None,\n",
       " None,\n",
       " None,\n",
       " None,\n",
       " None,\n",
       " None,\n",
       " None,\n",
       " None,\n",
       " None,\n",
       " None,\n",
       " None,\n",
       " None,\n",
       " None,\n",
       " None,\n",
       " None,\n",
       " None,\n",
       " None,\n",
       " None,\n",
       " None,\n",
       " None,\n",
       " None,\n",
       " None,\n",
       " None,\n",
       " None,\n",
       " None,\n",
       " None,\n",
       " None,\n",
       " None,\n",
       " None,\n",
       " None,\n",
       " None,\n",
       " None,\n",
       " None,\n",
       " None,\n",
       " None,\n",
       " None,\n",
       " None,\n",
       " None,\n",
       " None,\n",
       " None,\n",
       " None,\n",
       " None,\n",
       " None,\n",
       " None,\n",
       " None,\n",
       " None,\n",
       " None,\n",
       " None,\n",
       " None,\n",
       " None,\n",
       " None,\n",
       " None,\n",
       " None,\n",
       " None,\n",
       " None,\n",
       " None,\n",
       " None,\n",
       " None,\n",
       " None,\n",
       " None,\n",
       " None,\n",
       " None,\n",
       " None,\n",
       " None,\n",
       " None,\n",
       " None,\n",
       " None,\n",
       " None,\n",
       " None,\n",
       " None,\n",
       " None,\n",
       " None,\n",
       " None,\n",
       " None,\n",
       " None,\n",
       " None,\n",
       " None,\n",
       " None,\n",
       " None,\n",
       " None,\n",
       " None,\n",
       " None,\n",
       " None,\n",
       " None,\n",
       " None,\n",
       " None,\n",
       " None,\n",
       " None,\n",
       " None,\n",
       " None,\n",
       " None,\n",
       " None,\n",
       " None,\n",
       " None,\n",
       " None,\n",
       " None,\n",
       " None,\n",
       " None,\n",
       " None,\n",
       " None,\n",
       " None,\n",
       " None,\n",
       " None,\n",
       " None,\n",
       " None,\n",
       " None,\n",
       " None,\n",
       " None,\n",
       " None,\n",
       " None,\n",
       " None,\n",
       " None,\n",
       " None,\n",
       " None,\n",
       " None,\n",
       " None,\n",
       " None,\n",
       " None,\n",
       " None,\n",
       " None,\n",
       " None,\n",
       " None,\n",
       " None,\n",
       " None,\n",
       " None,\n",
       " None,\n",
       " None,\n",
       " None,\n",
       " None]"
      ]
     },
     "execution_count": 28,
     "metadata": {},
     "output_type": "execute_result"
    }
   ],
   "source": [
    "#check maximum value of each feature to decide which columns we want to normalize\n",
    "list(map(lambda x:print(x,max(lasso_df[x])),lasso_df))"
   ]
  },
  {
   "cell_type": "code",
   "execution_count": 29,
   "metadata": {
    "scrolled": true
   },
   "outputs": [
    {
     "data": {
      "text/plain": [
       "\"\\nfrom sklearn import preprocessing\\nnorm_df=lasso_df[['LotFrontage','LotArea','MasVnrArea','TotalBsmtSF','LowQualFinSF','GarageArea','WoodDeckSF','OpenPorchSF',\\n                 'EnclosedPorch','3SsnPorch','ScreenPorch','PoolArea','MiscVal','TotalSF','GarageAge']]\\n\\nnormalize=preprocessing.normalize(norm_df.values,norm='l1')\\nnorm2_df=pd.DataFrame(normalize,columns=norm_df.columns,index=norm_df.index)\\n\\nlasso_df[['LotFrontage','LotArea','MasVnrArea','TotalBsmtSF','LowQualFinSF','GarageArea','WoodDeckSF','OpenPorchSF',\\n                 'EnclosedPorch','3SsnPorch','ScreenPorch','PoolArea','MiscVal','TotalSF','GarageAge']]=norm2_df \""
      ]
     },
     "execution_count": 29,
     "metadata": {},
     "output_type": "execute_result"
    }
   ],
   "source": [
    "# At the begining i tried to use normalize directly on all cols, then noticed it will then normalize based on all datain \n",
    "# the 2-d array. Then the large value columns such as LotArea will make other cols to a really small value. \n",
    "#Therefore change the idear to standardize values to 0-1 for each columns \n",
    "\n",
    "'''\n",
    "from sklearn import preprocessing\n",
    "norm_df=lasso_df[['LotFrontage','LotArea','MasVnrArea','TotalBsmtSF','LowQualFinSF','GarageArea','WoodDeckSF','OpenPorchSF',\n",
    "                 'EnclosedPorch','3SsnPorch','ScreenPorch','PoolArea','MiscVal','TotalSF','GarageAge']]\n",
    "\n",
    "normalize=preprocessing.normalize(norm_df.values,norm='l1')\n",
    "norm2_df=pd.DataFrame(normalize,columns=norm_df.columns,index=norm_df.index)\n",
    "\n",
    "lasso_df[['LotFrontage','LotArea','MasVnrArea','TotalBsmtSF','LowQualFinSF','GarageArea','WoodDeckSF','OpenPorchSF',\n",
    "                 'EnclosedPorch','3SsnPorch','ScreenPorch','PoolArea','MiscVal','TotalSF','GarageAge']]=norm2_df '''"
   ]
  },
  {
   "cell_type": "code",
   "execution_count": 30,
   "metadata": {},
   "outputs": [],
   "source": [
    "# Standarize column with maximum values larger than 100 \n",
    "# ['LotFrontage','LotArea','MasVnrArea','TotalBsmtSF','LowQualFinSF','GarageArea','WoodDeckSF','OpenPorchSF',\n",
    "#       'EnclosedPorch','3SsnPorch','ScreenPorch','PoolArea','MiscVal','TotalSF','YearsAgoBuilt','GarageAge']\n",
    " \n",
    "from sklearn import preprocessing\n",
    "\n",
    "'''The function to standardize the columns seperately. \n",
    "df is the dataframe needs the standardization.  \n",
    "collist is the list of columns which need to be standardized'''\n",
    "\n",
    "def standize_df(df,collist):\n",
    "    for col in collist:\n",
    "        stan_df=df[[col]]\n",
    "        min_max_scaler = preprocessing.MinMaxScaler()\n",
    "        standardized=min_max_scaler.fit_transform(stan_df)\n",
    "        stan2_df=pd.DataFrame(standardized,columns=stan_df.columns,index=stan_df.index)\n",
    "        df[[col]]=stan2_df\n",
    "    return df\n"
   ]
  },
  {
   "cell_type": "code",
   "execution_count": 31,
   "metadata": {},
   "outputs": [
    {
     "data": {
      "text/html": [
       "<div>\n",
       "<style scoped>\n",
       "    .dataframe tbody tr th:only-of-type {\n",
       "        vertical-align: middle;\n",
       "    }\n",
       "\n",
       "    .dataframe tbody tr th {\n",
       "        vertical-align: top;\n",
       "    }\n",
       "\n",
       "    .dataframe thead th {\n",
       "        text-align: right;\n",
       "    }\n",
       "</style>\n",
       "<table border=\"1\" class=\"dataframe\">\n",
       "  <thead>\n",
       "    <tr style=\"text-align: right;\">\n",
       "      <th></th>\n",
       "      <th>LotFrontage</th>\n",
       "      <th>LotArea</th>\n",
       "      <th>MasVnrArea</th>\n",
       "      <th>TotalBsmtSF</th>\n",
       "      <th>LowQualFinSF</th>\n",
       "      <th>BedroomAbvGr</th>\n",
       "      <th>KitchenAbvGr</th>\n",
       "      <th>TotRmsAbvGrd</th>\n",
       "      <th>Fireplaces</th>\n",
       "      <th>GarageCars</th>\n",
       "      <th>...</th>\n",
       "      <th>FireplaceQu</th>\n",
       "      <th>GarageFinish</th>\n",
       "      <th>GarageQual</th>\n",
       "      <th>GarageCond</th>\n",
       "      <th>PavedDrive</th>\n",
       "      <th>PoolQC</th>\n",
       "      <th>Fence</th>\n",
       "      <th>MoSold_Autumn</th>\n",
       "      <th>MoSold_Spring</th>\n",
       "      <th>MoSold_Winter</th>\n",
       "    </tr>\n",
       "    <tr>\n",
       "      <th>Id</th>\n",
       "      <th></th>\n",
       "      <th></th>\n",
       "      <th></th>\n",
       "      <th></th>\n",
       "      <th></th>\n",
       "      <th></th>\n",
       "      <th></th>\n",
       "      <th></th>\n",
       "      <th></th>\n",
       "      <th></th>\n",
       "      <th></th>\n",
       "      <th></th>\n",
       "      <th></th>\n",
       "      <th></th>\n",
       "      <th></th>\n",
       "      <th></th>\n",
       "      <th></th>\n",
       "      <th></th>\n",
       "      <th></th>\n",
       "      <th></th>\n",
       "      <th></th>\n",
       "    </tr>\n",
       "  </thead>\n",
       "  <tbody>\n",
       "    <tr>\n",
       "      <th>1456</th>\n",
       "      <td>0.140411</td>\n",
       "      <td>0.030929</td>\n",
       "      <td>0.000000</td>\n",
       "      <td>0.297255</td>\n",
       "      <td>0.0</td>\n",
       "      <td>0.375</td>\n",
       "      <td>0.333333</td>\n",
       "      <td>0.416667</td>\n",
       "      <td>0.333333</td>\n",
       "      <td>0.50</td>\n",
       "      <td>...</td>\n",
       "      <td>0.6</td>\n",
       "      <td>0.666667</td>\n",
       "      <td>0.6</td>\n",
       "      <td>0.6</td>\n",
       "      <td>1.0</td>\n",
       "      <td>0.0</td>\n",
       "      <td>0.00</td>\n",
       "      <td>0.0</td>\n",
       "      <td>0.0</td>\n",
       "      <td>0.0</td>\n",
       "    </tr>\n",
       "    <tr>\n",
       "      <th>1457</th>\n",
       "      <td>0.219178</td>\n",
       "      <td>0.055505</td>\n",
       "      <td>0.074375</td>\n",
       "      <td>0.480973</td>\n",
       "      <td>0.0</td>\n",
       "      <td>0.375</td>\n",
       "      <td>0.333333</td>\n",
       "      <td>0.416667</td>\n",
       "      <td>0.666667</td>\n",
       "      <td>0.50</td>\n",
       "      <td>...</td>\n",
       "      <td>0.6</td>\n",
       "      <td>0.333333</td>\n",
       "      <td>0.6</td>\n",
       "      <td>0.6</td>\n",
       "      <td>1.0</td>\n",
       "      <td>0.0</td>\n",
       "      <td>0.75</td>\n",
       "      <td>0.0</td>\n",
       "      <td>0.0</td>\n",
       "      <td>1.0</td>\n",
       "    </tr>\n",
       "    <tr>\n",
       "      <th>1458</th>\n",
       "      <td>0.154110</td>\n",
       "      <td>0.036187</td>\n",
       "      <td>0.000000</td>\n",
       "      <td>0.359326</td>\n",
       "      <td>0.0</td>\n",
       "      <td>0.500</td>\n",
       "      <td>0.333333</td>\n",
       "      <td>0.583333</td>\n",
       "      <td>0.666667</td>\n",
       "      <td>0.25</td>\n",
       "      <td>...</td>\n",
       "      <td>0.8</td>\n",
       "      <td>0.666667</td>\n",
       "      <td>0.6</td>\n",
       "      <td>0.6</td>\n",
       "      <td>1.0</td>\n",
       "      <td>0.0</td>\n",
       "      <td>1.00</td>\n",
       "      <td>0.0</td>\n",
       "      <td>1.0</td>\n",
       "      <td>0.0</td>\n",
       "    </tr>\n",
       "    <tr>\n",
       "      <th>1459</th>\n",
       "      <td>0.160959</td>\n",
       "      <td>0.039342</td>\n",
       "      <td>0.000000</td>\n",
       "      <td>0.336245</td>\n",
       "      <td>0.0</td>\n",
       "      <td>0.250</td>\n",
       "      <td>0.333333</td>\n",
       "      <td>0.250000</td>\n",
       "      <td>0.000000</td>\n",
       "      <td>0.25</td>\n",
       "      <td>...</td>\n",
       "      <td>0.0</td>\n",
       "      <td>0.333333</td>\n",
       "      <td>0.6</td>\n",
       "      <td>0.6</td>\n",
       "      <td>1.0</td>\n",
       "      <td>0.0</td>\n",
       "      <td>0.00</td>\n",
       "      <td>0.0</td>\n",
       "      <td>1.0</td>\n",
       "      <td>0.0</td>\n",
       "    </tr>\n",
       "    <tr>\n",
       "      <th>1460</th>\n",
       "      <td>0.184932</td>\n",
       "      <td>0.040370</td>\n",
       "      <td>0.000000</td>\n",
       "      <td>0.391765</td>\n",
       "      <td>0.0</td>\n",
       "      <td>0.375</td>\n",
       "      <td>0.333333</td>\n",
       "      <td>0.333333</td>\n",
       "      <td>0.000000</td>\n",
       "      <td>0.25</td>\n",
       "      <td>...</td>\n",
       "      <td>0.0</td>\n",
       "      <td>1.000000</td>\n",
       "      <td>0.6</td>\n",
       "      <td>0.6</td>\n",
       "      <td>1.0</td>\n",
       "      <td>0.0</td>\n",
       "      <td>0.00</td>\n",
       "      <td>0.0</td>\n",
       "      <td>0.0</td>\n",
       "      <td>0.0</td>\n",
       "    </tr>\n",
       "  </tbody>\n",
       "</table>\n",
       "<p>5 rows × 185 columns</p>\n",
       "</div>"
      ],
      "text/plain": [
       "      LotFrontage   LotArea  MasVnrArea  TotalBsmtSF  LowQualFinSF  \\\n",
       "Id                                                                   \n",
       "1456     0.140411  0.030929    0.000000     0.297255           0.0   \n",
       "1457     0.219178  0.055505    0.074375     0.480973           0.0   \n",
       "1458     0.154110  0.036187    0.000000     0.359326           0.0   \n",
       "1459     0.160959  0.039342    0.000000     0.336245           0.0   \n",
       "1460     0.184932  0.040370    0.000000     0.391765           0.0   \n",
       "\n",
       "      BedroomAbvGr  KitchenAbvGr  TotRmsAbvGrd  Fireplaces  GarageCars  \\\n",
       "Id                                                                       \n",
       "1456         0.375      0.333333      0.416667    0.333333        0.50   \n",
       "1457         0.375      0.333333      0.416667    0.666667        0.50   \n",
       "1458         0.500      0.333333      0.583333    0.666667        0.25   \n",
       "1459         0.250      0.333333      0.250000    0.000000        0.25   \n",
       "1460         0.375      0.333333      0.333333    0.000000        0.25   \n",
       "\n",
       "          ...        FireplaceQu  GarageFinish  GarageQual  GarageCond  \\\n",
       "Id        ...                                                            \n",
       "1456      ...                0.6      0.666667         0.6         0.6   \n",
       "1457      ...                0.6      0.333333         0.6         0.6   \n",
       "1458      ...                0.8      0.666667         0.6         0.6   \n",
       "1459      ...                0.0      0.333333         0.6         0.6   \n",
       "1460      ...                0.0      1.000000         0.6         0.6   \n",
       "\n",
       "      PavedDrive  PoolQC  Fence  MoSold_Autumn  MoSold_Spring  MoSold_Winter  \n",
       "Id                                                                            \n",
       "1456         1.0     0.0   0.00            0.0            0.0            0.0  \n",
       "1457         1.0     0.0   0.75            0.0            0.0            1.0  \n",
       "1458         1.0     0.0   1.00            0.0            1.0            0.0  \n",
       "1459         1.0     0.0   0.00            0.0            1.0            0.0  \n",
       "1460         1.0     0.0   0.00            0.0            0.0            0.0  \n",
       "\n",
       "[5 rows x 185 columns]"
      ]
     },
     "execution_count": 31,
     "metadata": {},
     "output_type": "execute_result"
    }
   ],
   "source": [
    "'''collist=['LotFrontage','LotArea','MasVnrArea','TotalBsmtSF','LowQualFinSF','GarageArea','WoodDeckSF','OpenPorchSF',\n",
    "       'EnclosedPorch','3SsnPorch','ScreenPorch','PoolArea','MiscVal','TotalSF','YearsAgoBuilt','GarageAge']\n",
    "lasso_df=standize_df(lasso_df,collist)'''\n",
    "\n",
    "#Standardize all colummns\n",
    "collist=list(lasso_df.columns)\n",
    "lasso_df=standize_df(lasso_df,collist)\n",
    "lasso_df.tail()"
   ]
  },
  {
   "cell_type": "markdown",
   "metadata": {},
   "source": [
    "### After normalization, we can start to build up the lasso model\n",
    "* first split the dataset to 80% - 20% training and test dataset\n",
    "* Then find the best lambda\n",
    "* Check coef=0 features"
   ]
  },
  {
   "cell_type": "code",
   "execution_count": 32,
   "metadata": {},
   "outputs": [],
   "source": [
    "# Split the Ames_df into a 80% train-set and a 20% test set. \n",
    "# I tested a few seed set, the seed19 gives the best result when consider about all (alpha value, score, RMSE) together\n",
    "# with differet seed (different data split way) the lambda will change , and the result will be slightly different\n",
    "# I think this is due to some outlier nodes of some features. Once we clean the data set better we should get more stable result\n",
    "\n",
    "np.random.seed(19)\n",
    "testIdxes = np.random.choice(range(1458), size= 292, replace=False)\n",
    "trainIdxes = list(set(range(1458))-set(testIdxes))\n",
    "trainX = lasso_df.iloc[trainIdxes]\n",
    "testX  = lasso_df.iloc[testIdxes]\n",
    "trainY = SalePrice.iloc[trainIdxes]\n",
    "testY  = SalePrice.iloc[testIdxes]\n",
    "\n",
    "# Use np.linspace to generate 40 alpha between 0.001 and 200\n",
    "alphaRange = np.linspace(1e-3,200,40) "
   ]
  },
  {
   "cell_type": "markdown",
   "metadata": {},
   "source": [
    "### Start with finding the best Lambda , still use cross validation"
   ]
  },
  {
   "cell_type": "code",
   "execution_count": 33,
   "metadata": {},
   "outputs": [
    {
     "name": "stderr",
     "output_type": "stream",
     "text": [
      "C:\\ProgramData\\Anaconda3\\lib\\site-packages\\sklearn\\linear_model\\coordinate_descent.py:491: ConvergenceWarning: Objective did not converge. You might want to increase the number of iterations. Fitting data with very small alpha may cause precision problems.\n",
      "  ConvergenceWarning)\n"
     ]
    }
   ],
   "source": [
    "lasso_cv=LassoCV(alphas=alphaRange,cv=10)\n",
    "lasso_cv.fit(trainX,trainY)\n",
    "lasso_best_alpha=round(lasso_cv.alpha_,3)"
   ]
  },
  {
   "cell_type": "code",
   "execution_count": 34,
   "metadata": {},
   "outputs": [
    {
     "data": {
      "text/plain": [
       "46.155"
      ]
     },
     "execution_count": 34,
     "metadata": {},
     "output_type": "execute_result"
    }
   ],
   "source": [
    "lasso_best_alpha"
   ]
  },
  {
   "cell_type": "code",
   "execution_count": 35,
   "metadata": {},
   "outputs": [
    {
     "data": {
      "text/plain": [
       "0.9187920145851156"
      ]
     },
     "execution_count": 35,
     "metadata": {},
     "output_type": "execute_result"
    }
   ],
   "source": [
    "lasso_cv.score(trainX,trainY)"
   ]
  },
  {
   "cell_type": "code",
   "execution_count": 36,
   "metadata": {},
   "outputs": [
    {
     "data": {
      "text/plain": [
       "Lasso(alpha=46.155, copy_X=True, fit_intercept=True, max_iter=1000,\n",
       "   normalize=False, positive=False, precompute=False, random_state=None,\n",
       "   selection='cyclic', tol=0.0001, warm_start=False)"
      ]
     },
     "execution_count": 36,
     "metadata": {},
     "output_type": "execute_result"
    }
   ],
   "source": [
    "# build up lasso model with the best alpha we get above\n",
    "lasso=Lasso(alpha=lasso_best_alpha)\n",
    "lasso.fit(trainX,trainY)"
   ]
  },
  {
   "cell_type": "code",
   "execution_count": 37,
   "metadata": {},
   "outputs": [
    {
     "data": {
      "text/plain": [
       "-35911.9254627749"
      ]
     },
     "execution_count": 37,
     "metadata": {},
     "output_type": "execute_result"
    }
   ],
   "source": [
    "lasso_inte=lasso.intercept_\n",
    "lasso_inte"
   ]
  },
  {
   "cell_type": "code",
   "execution_count": 38,
   "metadata": {
    "scrolled": true
   },
   "outputs": [],
   "source": [
    "lasso_coef=pd.Series(lasso.coef_, index=lasso_df.columns)\n",
    "lasso_coef_sorted=np.abs(lasso_coef).sort_values(ascending=False)\n",
    "zero_coef=lasso_coef_sorted[lasso_coef_sorted.values==0]"
   ]
  },
  {
   "cell_type": "code",
   "execution_count": 39,
   "metadata": {},
   "outputs": [
    {
     "data": {
      "text/plain": [
       "69"
      ]
     },
     "execution_count": 39,
     "metadata": {},
     "output_type": "execute_result"
    }
   ],
   "source": [
    "len(zero_coef)\n",
    "# here it shows 100 columns has coef value=0"
   ]
  },
  {
   "cell_type": "code",
   "execution_count": 40,
   "metadata": {},
   "outputs": [
    {
     "data": {
      "text/plain": [
       "22264.961405606424"
      ]
     },
     "execution_count": 40,
     "metadata": {},
     "output_type": "execute_result"
    }
   ],
   "source": [
    "lasso_predict=lasso.predict(testX)\n",
    "RMSE=np.sqrt(mean_squared_error(testY,lasso_predict))\n",
    "RMSE"
   ]
  },
  {
   "cell_type": "code",
   "execution_count": 41,
   "metadata": {},
   "outputs": [
    {
     "data": {
      "text/plain": [
       "0.1409041833342863"
      ]
     },
     "execution_count": 41,
     "metadata": {},
     "output_type": "execute_result"
    }
   ],
   "source": [
    "PredictionsTest=lasso.predict(testX)\n",
    "RMSLEvalue = np.sqrt(np.mean(np.power(np.log1p(testY)-np.log1p(PredictionsTest), 2)))\n",
    "RMSLEvalue"
   ]
  },
  {
   "cell_type": "code",
   "execution_count": 42,
   "metadata": {},
   "outputs": [],
   "source": [
    "#save the list of coef = 0 to zero_coef_lasso.csv file\n",
    "zero_coef.to_csv(\"zero_coef_lasso.csv\")"
   ]
  },
  {
   "cell_type": "code",
   "execution_count": 43,
   "metadata": {},
   "outputs": [],
   "source": [
    "#drop the coef=0 columns to get a sub df, check the shape to make sure the column num looks good\n",
    "leftcol=df.drop(list(zero_coef.index),axis=1)"
   ]
  },
  {
   "cell_type": "code",
   "execution_count": 44,
   "metadata": {},
   "outputs": [
    {
     "data": {
      "text/plain": [
       "(1458, 117)"
      ]
     },
     "execution_count": 44,
     "metadata": {},
     "output_type": "execute_result"
    }
   ],
   "source": [
    "leftcol.shape"
   ]
  },
  {
   "cell_type": "code",
   "execution_count": 45,
   "metadata": {
    "scrolled": true
   },
   "outputs": [],
   "source": [
    "# Save the new df with no coef=0 columns to lasso.csv file\n",
    "leftcol.to_csv(\"lasso.csv\")"
   ]
  },
  {
   "cell_type": "code",
   "execution_count": 46,
   "metadata": {},
   "outputs": [
    {
     "data": {
      "text/plain": [
       "MSSubClass_70            0.0\n",
       "Exterior_HdBoard         0.0\n",
       "Condition_RRNn           0.0\n",
       "MSSubClass_40            0.0\n",
       "MSSubClass_45            0.0\n",
       "MSSubClass_50            0.0\n",
       "Condition_PosA           0.0\n",
       "Neighborhood_Timber      0.0\n",
       "Exterior_AsbShng         0.0\n",
       "Utilities_NoSeWa         0.0\n",
       "MSSubClass_85            0.0\n",
       "LotShape_IR3             0.0\n",
       "SaleCondition_Alloca     0.0\n",
       "SaleCondition_AdjLand    0.0\n",
       "Exterior_Wd Sdng         0.0\n",
       "MiscVal                  0.0\n",
       "SaleType_Oth             0.0\n",
       "GarageAge                0.0\n",
       "Fence                    0.0\n",
       "PavedDrive               0.0\n",
       "GarageCond               0.0\n",
       "LowQualFinSF             0.0\n",
       "GarageQual               0.0\n",
       "HeatingQC                0.0\n",
       "Exterior_Other           0.0\n",
       "PoolArea                 0.0\n",
       "Condition_RRNe           0.0\n",
       "Exterior_AsphShn         0.0\n",
       "Exterior_CBlock          0.0\n",
       "Exterior_Stone           0.0\n",
       "                        ... \n",
       "Neighborhood_IDOTRR      0.0\n",
       "Neighborhood_MeadowV     0.0\n",
       "RoofStyle_Mansard        0.0\n",
       "RoofStyle_Flat           0.0\n",
       "Neighborhood_ClearCr     0.0\n",
       "HouseStyle_2.5Unf        0.0\n",
       "HouseStyle_2.5Fin        0.0\n",
       "HouseStyle_1.5Unf        0.0\n",
       "Neighborhood_SWISU       0.0\n",
       "BldgType_2fmCon          0.0\n",
       "Neighborhood_SawyerW     0.0\n",
       "RoofMatl_Tar&Grv         0.0\n",
       "Foundation_Stone         0.0\n",
       "Neighborhood_Somerst     0.0\n",
       "Heating_Wall             0.0\n",
       "SaleType_Con             0.0\n",
       "Electrical_Mix           0.0\n",
       "Alley_Grvl               0.0\n",
       "Alley_Pave               0.0\n",
       "Electrical_FuseP         0.0\n",
       "Electrical_FuseF         0.0\n",
       "Heating_Grav             0.0\n",
       "Foundation_Wood          0.0\n",
       "Heating_GasW             0.0\n",
       "LotConfig_FR3            0.0\n",
       "LandSlope_Mod            0.0\n",
       "LandSlope_Sev            0.0\n",
       "Heating_Floor            0.0\n",
       "Neighborhood_Blueste     0.0\n",
       "RoofMatl_Metal           0.0\n",
       "Length: 69, dtype: float64"
      ]
     },
     "execution_count": 46,
     "metadata": {},
     "output_type": "execute_result"
    }
   ],
   "source": [
    "zero_coef"
   ]
  },
  {
   "cell_type": "code",
   "execution_count": null,
   "metadata": {},
   "outputs": [],
   "source": []
  }
 ],
 "metadata": {
  "kernelspec": {
   "display_name": "Python 3",
   "language": "python",
   "name": "python3"
  },
  "language_info": {
   "codemirror_mode": {
    "name": "ipython",
    "version": 3
   },
   "file_extension": ".py",
   "mimetype": "text/x-python",
   "name": "python",
   "nbconvert_exporter": "python",
   "pygments_lexer": "ipython3",
   "version": "3.6.5"
  }
 },
 "nbformat": 4,
 "nbformat_minor": 2
}
